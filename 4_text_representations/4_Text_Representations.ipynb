{
  "nbformat": 4,
  "nbformat_minor": 0,
  "metadata": {
    "colab": {
      "name": "4 Text Representations.ipynb",
      "provenance": [],
      "collapsed_sections": [],
      "toc_visible": true
    },
    "kernelspec": {
      "name": "python3",
      "display_name": "Python 3"
    }
  },
  "cells": [
    {
      "cell_type": "markdown",
      "metadata": {
        "id": "TA2F5r8B0O45",
        "colab_type": "text"
      },
      "source": [
        ""
      ]
    },
    {
      "cell_type": "code",
      "metadata": {
        "id": "XezxKOuSz7R7",
        "colab_type": "code",
        "outputId": "46a4ec54-d13c-4b95-d7bf-772911801089",
        "colab": {
          "base_uri": "https://localhost:8080/",
          "height": 34
        }
      },
      "source": [
        "import gensim\n",
        "print(f'gensim: {gensim.__version__}')"
      ],
      "execution_count": 0,
      "outputs": [
        {
          "output_type": "stream",
          "text": [
            "gensim: 3.6.0\n"
          ],
          "name": "stdout"
        }
      ]
    },
    {
      "cell_type": "code",
      "metadata": {
        "id": "fEN_Va4Z0OM1",
        "colab_type": "code",
        "outputId": "2a6dbdcc-5898-4776-c27b-09a63898d016",
        "colab": {
          "base_uri": "https://localhost:8080/",
          "height": 34
        }
      },
      "source": [
        "!conda install -y tqdm"
      ],
      "execution_count": 0,
      "outputs": [
        {
          "output_type": "stream",
          "text": [
            "/bin/bash: conda: command not found\n"
          ],
          "name": "stdout"
        }
      ]
    },
    {
      "cell_type": "markdown",
      "metadata": {
        "id": "lEtr5uF90W8v",
        "colab_type": "text"
      },
      "source": [
        "Solving environment: ...working... done\n",
        "\n",
        "# All requested packages already installed."
      ]
    },
    {
      "cell_type": "code",
      "metadata": {
        "id": "COEh6sby0OLC",
        "colab_type": "code",
        "colab": {}
      },
      "source": [
        "from tqdm import tqdm\n",
        "class TqdmUpTo(tqdm):\n",
        "    def update_to(self, b=1, bsize=1, tsize=None):\n",
        "        if tsize is not None: self.total = tsize\n",
        "        self.update(b * bsize - self.n)\n",
        "\n",
        "def get_data(url, filename):\n",
        "    \"\"\"\n",
        "    Download data if the filename does not exist already\n",
        "    Uses Tqdm to show download progress\n",
        "    \"\"\"\n",
        "    import os\n",
        "    from urllib.request import urlretrieve\n",
        "    \n",
        "    if not os.path.exists(filename):\n",
        "\n",
        "        dirname = os.path.dirname(filename)\n",
        "        if not os.path.exists(dirname):\n",
        "            os.makedirs(dirname)\n",
        "\n",
        "        with TqdmUpTo(unit='B', unit_scale=True, miniters=1, desc=url.split('/')[-1]) as t:\n",
        "            urlretrieve(url, filename, reporthook=t.update_to)"
      ],
      "execution_count": 0,
      "outputs": []
    },
    {
      "cell_type": "code",
      "metadata": {
        "id": "etjrvw8g0OJP",
        "colab_type": "code",
        "outputId": "00300228-a477-4858-d8be-296b0183f187",
        "colab": {
          "base_uri": "https://localhost:8080/",
          "height": 34
        }
      },
      "source": [
        "embedding_url = 'http://nlp.stanford.edu/data/glove.6B.zip'\n",
        "get_data(embedding_url, 'data/glove.6B.zip')"
      ],
      "execution_count": 0,
      "outputs": [
        {
          "output_type": "stream",
          "text": [
            "glove.6B.zip: 862MB [06:32, 2.20MB/s]                          \n"
          ],
          "name": "stderr"
        }
      ]
    },
    {
      "cell_type": "code",
      "metadata": {
        "id": "SVitBlbc0OFL",
        "colab_type": "code",
        "outputId": "3a7d145e-18ce-472c-cbea-70329d8553f1",
        "colab": {
          "base_uri": "https://localhost:8080/",
          "height": 102
        }
      },
      "source": [
        "# # We need to run this only once, can unzip manually unzip to the data directory too\n",
        "!unzip data/glove.6B.zip \n",
        "!mv glove.6B.300d.txt data/glove.6B.300d.txt \n",
        "!mv glove.6B.200d.txt data/glove.6B.200d.txt \n",
        "!mv glove.6B.100d.txt data/glove.6B.100d.txt \n",
        "!mv glove.6B.50d.txt data/glove.6B.50d.txt"
      ],
      "execution_count": 0,
      "outputs": [
        {
          "output_type": "stream",
          "text": [
            "Archive:  data/glove.6B.zip\n",
            "  inflating: glove.6B.50d.txt        \n",
            "  inflating: glove.6B.100d.txt       \n",
            "  inflating: glove.6B.200d.txt       \n",
            "  inflating: glove.6B.300d.txt       \n"
          ],
          "name": "stdout"
        }
      ]
    },
    {
      "cell_type": "code",
      "metadata": {
        "id": "FOxH7HNx0N_M",
        "colab_type": "code",
        "colab": {}
      },
      "source": [
        "from gensim.scripts.glove2word2vec import glove2word2vec\n",
        "glove_input_file = 'data/glove.6B.300d.txt'\n",
        "\n",
        "word2vec_output_file = 'data/glove.6B.300d.word2vec.txt'"
      ],
      "execution_count": 0,
      "outputs": []
    },
    {
      "cell_type": "code",
      "metadata": {
        "id": "GfDTvrrx1yzZ",
        "colab_type": "code",
        "outputId": "a0c5b052-d50f-4f28-96a4-25e1936aea36",
        "colab": {
          "base_uri": "https://localhost:8080/",
          "height": 71
        }
      },
      "source": [
        "import os\n",
        "if not os.path.exists(word2vec_output_file):\n",
        "    glove2word2vec(glove_input_file, word2vec_output_file)"
      ],
      "execution_count": 0,
      "outputs": [
        {
          "output_type": "stream",
          "text": [
            "/usr/local/lib/python3.6/dist-packages/smart_open/smart_open_lib.py:402: UserWarning: This function is deprecated, use smart_open.open instead. See the migration notes for details: https://github.com/RaRe-Technologies/smart_open/blob/master/README.rst#migrating-to-the-new-open-function\n",
            "  'See the migration notes for details: %s' % _MIGRATION_NOTES_URL\n"
          ],
          "name": "stderr"
        }
      ]
    },
    {
      "cell_type": "markdown",
      "metadata": {
        "id": "ESMGrllN13we",
        "colab_type": "text"
      },
      "source": [
        "##KeyedVectors API"
      ]
    },
    {
      "cell_type": "code",
      "metadata": {
        "id": "NOl7icTE1zEg",
        "colab_type": "code",
        "colab": {}
      },
      "source": [
        "from gensim.models import KeyedVectors\n",
        "filename = word2vec_output_file"
      ],
      "execution_count": 0,
      "outputs": []
    },
    {
      "cell_type": "code",
      "metadata": {
        "id": "_Gm6mWNI1zNz",
        "colab_type": "code",
        "outputId": "bab2658f-0ebb-4a9b-d4ad-79a62c47b69b",
        "colab": {
          "base_uri": "https://localhost:8080/",
          "height": 105
        }
      },
      "source": [
        "%%time\n",
        "# load the Stanford GloVe model from file, this is Disk I/O and can be slow\n",
        "pretrained_w2v_model = KeyedVectors.load_word2vec_format(word2vec_output_file, binary=False)\n",
        "# binary=False format for human readable text (.txt) files, and binary=True for .bin files"
      ],
      "execution_count": 0,
      "outputs": [
        {
          "output_type": "stream",
          "text": [
            "/usr/local/lib/python3.6/dist-packages/smart_open/smart_open_lib.py:402: UserWarning: This function is deprecated, use smart_open.open instead. See the migration notes for details: https://github.com/RaRe-Technologies/smart_open/blob/master/README.rst#migrating-to-the-new-open-function\n",
            "  'See the migration notes for details: %s' % _MIGRATION_NOTES_URL\n"
          ],
          "name": "stderr"
        },
        {
          "output_type": "stream",
          "text": [
            "CPU times: user 1min 54s, sys: 1.49 s, total: 1min 56s\n",
            "Wall time: 1min 55s\n"
          ],
          "name": "stdout"
        }
      ]
    },
    {
      "cell_type": "code",
      "metadata": {
        "id": "IGbn0n-F1y8n",
        "colab_type": "code",
        "outputId": "e4aff029-a0bd-495f-d683-e7d3b8e7ae1e",
        "colab": {
          "base_uri": "https://localhost:8080/",
          "height": 122
        }
      },
      "source": [
        "# calculate: (king - man) + woman = ?\n",
        "result = pretrained_w2v_model.wv.most_similar(positive=['woman', 'king'], negative=['man'], topn=1)\n",
        "print(result)"
      ],
      "execution_count": 0,
      "outputs": [
        {
          "output_type": "stream",
          "text": [
            "/usr/local/lib/python3.6/dist-packages/ipykernel_launcher.py:1: DeprecationWarning: Call to deprecated `wv` (Attribute will be removed in 4.0.0, use self instead).\n",
            "  \"\"\"Entry point for launching an IPython kernel.\n"
          ],
          "name": "stderr"
        },
        {
          "output_type": "stream",
          "text": [
            "[('queen', 0.6713277101516724)]\n"
          ],
          "name": "stdout"
        },
        {
          "output_type": "stream",
          "text": [
            "/usr/local/lib/python3.6/dist-packages/gensim/matutils.py:737: FutureWarning: Conversion of the second argument of issubdtype from `int` to `np.signedinteger` is deprecated. In future, it will be treated as `np.int64 == np.dtype(int).type`.\n",
            "  if np.issubdtype(vec.dtype, np.int):\n"
          ],
          "name": "stderr"
        }
      ]
    },
    {
      "cell_type": "code",
      "metadata": {
        "id": "x5nbwmYR2ZKa",
        "colab_type": "code",
        "outputId": "18f3b86c-cd67-4328-e140-ee627ce0a515",
        "colab": {
          "base_uri": "https://localhost:8080/",
          "height": 88
        }
      },
      "source": [
        "# calculate: (india - canada) +  = ?\n",
        "result = pretrained_w2v_model.most_similar(positive=['quora', 'facebook'], negative=['linkedin'], topn=1)\n",
        "print(result)"
      ],
      "execution_count": 0,
      "outputs": [
        {
          "output_type": "stream",
          "text": [
            "[('twitter', 0.37966805696487427)]\n"
          ],
          "name": "stdout"
        },
        {
          "output_type": "stream",
          "text": [
            "/usr/local/lib/python3.6/dist-packages/gensim/matutils.py:737: FutureWarning: Conversion of the second argument of issubdtype from `int` to `np.signedinteger` is deprecated. In future, it will be treated as `np.int64 == np.dtype(int).type`.\n",
            "  if np.issubdtype(vec.dtype, np.int):\n"
          ],
          "name": "stderr"
        }
      ]
    },
    {
      "cell_type": "code",
      "metadata": {
        "id": "u5Nr8R9A2ZIH",
        "colab_type": "code",
        "outputId": "745cf826-1dd4-45d3-9de5-91d01ce1dd60",
        "colab": {
          "base_uri": "https://localhost:8080/",
          "height": 241
        }
      },
      "source": [
        "#pretrained_w2v_model.most_similar('bang;adesh')\n",
        "#pretrained_w2v_model.most_similar('love')\n",
        "pretrained_w2v_model.most_similar('india')"
      ],
      "execution_count": 0,
      "outputs": [
        {
          "output_type": "stream",
          "text": [
            "/usr/local/lib/python3.6/dist-packages/gensim/matutils.py:737: FutureWarning: Conversion of the second argument of issubdtype from `int` to `np.signedinteger` is deprecated. In future, it will be treated as `np.int64 == np.dtype(int).type`.\n",
            "  if np.issubdtype(vec.dtype, np.int):\n"
          ],
          "name": "stderr"
        },
        {
          "output_type": "execute_result",
          "data": {
            "text/plain": [
              "[('loves', 0.6420263051986694),\n",
              " ('passion', 0.6261469125747681),\n",
              " ('loved', 0.595270574092865),\n",
              " ('romantic', 0.5921086668968201),\n",
              " ('lovers', 0.5904368162155151),\n",
              " ('lover', 0.5841912031173706),\n",
              " ('you', 0.5837852954864502),\n",
              " ('me', 0.5835772752761841),\n",
              " ('affection', 0.5818219184875488),\n",
              " ('always', 0.5701121687889099)]"
            ]
          },
          "metadata": {
            "tags": []
          },
          "execution_count": 25
        }
      ]
    },
    {
      "cell_type": "markdown",
      "metadata": {
        "id": "5l1WuVaz2lai",
        "colab_type": "text"
      },
      "source": [
        "**What is missing in both word2vec and GloVe?**"
      ]
    },
    {
      "cell_type": "code",
      "metadata": {
        "id": "wcOLsmE92ZFz",
        "colab_type": "code",
        "outputId": "9f4b36e7-2df9-429d-b87c-ab77e29d6887",
        "colab": {
          "base_uri": "https://localhost:8080/",
          "height": 88
        }
      },
      "source": [
        "try:\n",
        "    pretrained_w2v_model.wv.most_similar('nirant')\n",
        "except Exception as e:\n",
        "    print(e)"
      ],
      "execution_count": 0,
      "outputs": [
        {
          "output_type": "stream",
          "text": [
            "\"word 'nirant' not in vocabulary\"\n"
          ],
          "name": "stdout"
        },
        {
          "output_type": "stream",
          "text": [
            "/usr/local/lib/python3.6/dist-packages/ipykernel_launcher.py:2: DeprecationWarning: Call to deprecated `wv` (Attribute will be removed in 4.0.0, use self instead).\n",
            "  \n"
          ],
          "name": "stderr"
        }
      ]
    },
    {
      "cell_type": "markdown",
      "metadata": {
        "id": "lWzzK1c63Z0y",
        "colab_type": "text"
      },
      "source": [
        "**How to handle OOV words?**"
      ]
    },
    {
      "cell_type": "code",
      "metadata": {
        "id": "9dIg3tuv2ZCj",
        "colab_type": "code",
        "outputId": "32932d48-0155-47ce-b236-19d7492c36a0",
        "colab": {
          "base_uri": "https://localhost:8080/",
          "height": 34
        }
      },
      "source": [
        "ted_dataset = \"https://wit3.fbk.eu/get.php?path=XML_releases/xml/ted_en-20160408.zip&filename=ted_en-20160408.zip\"\n",
        "get_data(ted_dataset, \"data/ted_en.zip\")"
      ],
      "execution_count": 0,
      "outputs": [
        {
          "output_type": "stream",
          "text": [
            "ted_en-20160408.zip&filename=ted_en-20160408.zip: 16.0MB [00:08, 1.90MB/s]\n"
          ],
          "name": "stderr"
        }
      ]
    },
    {
      "cell_type": "code",
      "metadata": {
        "id": "vFt8hbHy2Y-0",
        "colab_type": "code",
        "colab": {}
      },
      "source": [
        "import zipfile\n",
        "import lxml.etree\n",
        "with zipfile.ZipFile('data/ted_en.zip', 'r') as z:\n",
        "    doc = lxml.etree.parse(z.open('ted_en-20160408.xml', 'r'))\n",
        "input_text = '\\n'.join(doc.xpath('//content/text()'))"
      ],
      "execution_count": 0,
      "outputs": []
    },
    {
      "cell_type": "code",
      "metadata": {
        "id": "wL0CQaYd3jgR",
        "colab_type": "code",
        "outputId": "eb9bd465-b143-4429-91ad-2ca94a0b93f5",
        "colab": {
          "base_uri": "https://localhost:8080/",
          "height": 88
        }
      },
      "source": [
        "#print(input_text[:5000])\n",
        "print(input_text[:500])"
      ],
      "execution_count": 0,
      "outputs": [
        {
          "output_type": "stream",
          "text": [
            "Here are two reasons companies fail: they only do more of the same, or they only do what's new.\n",
            "To me the real, real solution to quality growth is figuring out the balance between two activities: exploration and exploitation. Both are necessary, but it can be too much of a good thing.\n",
            "Consider Facit. I'm actually old enough to remember them. Facit was a fantastic company. They were born deep in the Swedish forest, and they made the best mechanical calculators in the world. Everybody used them. A\n"
          ],
          "name": "stdout"
        }
      ]
    },
    {
      "cell_type": "code",
      "metadata": {
        "id": "8gn1McCh3jtT",
        "colab_type": "code",
        "colab": {}
      },
      "source": [
        "import re\n",
        "# remove parenthesis \n",
        "input_text_noparens = re.sub(r'\\([^)]*\\)', '', input_text)\n",
        "\n",
        "# store as list of sentences\n",
        "sentences_strings_ted = []\n",
        "for line in input_text_noparens.split('\\n'):\n",
        "    m = re.match(r'^(?:(?P<precolon>[^:]{,20}):)?(?P<postcolon>.*)$', line)\n",
        "    sentences_strings_ted.extend(sent for sent in m.groupdict()['postcolon'].split('.') if sent)\n",
        "\n",
        "# store as list of lists of words\n",
        "sentences_ted = []\n",
        "for sent_str in sentences_strings_ted:\n",
        "    tokens = re.sub(r\"[^a-z0-9]+\", \" \", sent_str.lower()).split()\n",
        "    sentences_ted.append(tokens)"
      ],
      "execution_count": 0,
      "outputs": []
    },
    {
      "cell_type": "code",
      "metadata": {
        "id": "nPglnhDT3jyM",
        "colab_type": "code",
        "outputId": "f7e20ed8-a044-4f5d-cb53-1acc3e96945e",
        "colab": {
          "base_uri": "https://localhost:8080/",
          "height": 697
        }
      },
      "source": [
        "#print(sentences_ted[:5])\n",
        "sentences_ted[:2]"
      ],
      "execution_count": 0,
      "outputs": [
        {
          "output_type": "execute_result",
          "data": {
            "text/plain": [
              "[['here',\n",
              "  'are',\n",
              "  'two',\n",
              "  'reasons',\n",
              "  'companies',\n",
              "  'fail',\n",
              "  'they',\n",
              "  'only',\n",
              "  'do',\n",
              "  'more',\n",
              "  'of',\n",
              "  'the',\n",
              "  'same',\n",
              "  'or',\n",
              "  'they',\n",
              "  'only',\n",
              "  'do',\n",
              "  'what',\n",
              "  's',\n",
              "  'new'],\n",
              " ['to',\n",
              "  'me',\n",
              "  'the',\n",
              "  'real',\n",
              "  'real',\n",
              "  'solution',\n",
              "  'to',\n",
              "  'quality',\n",
              "  'growth',\n",
              "  'is',\n",
              "  'figuring',\n",
              "  'out',\n",
              "  'the',\n",
              "  'balance',\n",
              "  'between',\n",
              "  'two',\n",
              "  'activities',\n",
              "  'exploration',\n",
              "  'and',\n",
              "  'exploitation']]"
            ]
          },
          "metadata": {
            "tags": []
          },
          "execution_count": 32
        }
      ]
    },
    {
      "cell_type": "markdown",
      "metadata": {
        "id": "98tEfh8X6JZE",
        "colab_type": "text"
      },
      "source": [
        "#create a json file"
      ]
    },
    {
      "cell_type": "code",
      "metadata": {
        "id": "V37QvLxH3jYh",
        "colab_type": "code",
        "colab": {}
      },
      "source": [
        "import json\n",
        "with open('ted_clean_sentences.json', 'w') as fp:\n",
        "    json.dump(sentences_ted, fp)"
      ],
      "execution_count": 0,
      "outputs": []
    },
    {
      "cell_type": "code",
      "metadata": {
        "id": "Tu8A5MUX50ij",
        "colab_type": "code",
        "colab": {}
      },
      "source": [
        "with open('ted_clean_sentences.json', 'r') as fp:\n",
        "    sentences_ted = json.load(fp)"
      ],
      "execution_count": 0,
      "outputs": []
    },
    {
      "cell_type": "code",
      "metadata": {
        "id": "HVM3zNeL50f5",
        "colab_type": "code",
        "outputId": "24e62452-6c6f-4466-973c-237770aa02b4",
        "colab": {
          "base_uri": "https://localhost:8080/",
          "height": 54
        }
      },
      "source": [
        "print(sentences_ted[:2])"
      ],
      "execution_count": 0,
      "outputs": [
        {
          "output_type": "stream",
          "text": [
            "[['here', 'are', 'two', 'reasons', 'companies', 'fail', 'they', 'only', 'do', 'more', 'of', 'the', 'same', 'or', 'they', 'only', 'do', 'what', 's', 'new'], ['to', 'me', 'the', 'real', 'real', 'solution', 'to', 'quality', 'growth', 'is', 'figuring', 'out', 'the', 'balance', 'between', 'two', 'activities', 'exploration', 'and', 'exploitation']]\n"
          ],
          "name": "stdout"
        }
      ]
    },
    {
      "cell_type": "markdown",
      "metadata": {
        "id": "s_uO2pGI6TfB",
        "colab_type": "text"
      },
      "source": [
        "#Train FastText Embedddings"
      ]
    },
    {
      "cell_type": "code",
      "metadata": {
        "id": "snNRWsrB50dZ",
        "colab_type": "code",
        "colab": {}
      },
      "source": [
        "from gensim.models.fasttext import FastText"
      ],
      "execution_count": 0,
      "outputs": []
    },
    {
      "cell_type": "code",
      "metadata": {
        "id": "e9yRmN4K50aW",
        "colab_type": "code",
        "outputId": "624c4865-91c4-4dff-e4d6-b00967ccf4df",
        "colab": {
          "base_uri": "https://localhost:8080/",
          "height": 51
        }
      },
      "source": [
        "%%time\n",
        "fasttext_ted_model = FastText(sentences_ted, size=100, window=5, min_count=5, workers=-1, sg=1)\n",
        "# sg = 1 denotes skipgram, else CBOW is used"
      ],
      "execution_count": 0,
      "outputs": [
        {
          "output_type": "stream",
          "text": [
            "CPU times: user 9.28 s, sys: 942 ms, total: 10.2 s\n",
            "Wall time: 10.2 s\n"
          ],
          "name": "stdout"
        }
      ]
    },
    {
      "cell_type": "code",
      "metadata": {
        "id": "7y23-o_R50Vg",
        "colab_type": "code",
        "outputId": "f951c66e-be65-4902-995e-ec25862f68a6",
        "colab": {
          "base_uri": "https://localhost:8080/",
          "height": 241
        }
      },
      "source": [
        "fasttext_ted_model.wv.most_similar(\"india\")"
      ],
      "execution_count": 0,
      "outputs": [
        {
          "output_type": "stream",
          "text": [
            "/usr/local/lib/python3.6/dist-packages/gensim/matutils.py:737: FutureWarning: Conversion of the second argument of issubdtype from `int` to `np.signedinteger` is deprecated. In future, it will be treated as `np.int64 == np.dtype(int).type`.\n",
            "  if np.issubdtype(vec.dtype, np.int):\n"
          ],
          "name": "stderr"
        },
        {
          "output_type": "execute_result",
          "data": {
            "text/plain": [
              "[('indians', 0.5911639928817749),\n",
              " ('indian', 0.5406097769737244),\n",
              " ('indiana', 0.4898717999458313),\n",
              " ('indicated', 0.44004374742507935),\n",
              " ('indicate', 0.4042605757713318),\n",
              " ('internal', 0.39166826009750366),\n",
              " ('interior', 0.3871103823184967),\n",
              " ('byproducts', 0.37529298663139343),\n",
              " ('princesses', 0.37265270948410034),\n",
              " ('indications', 0.369659960269928)]"
            ]
          },
          "metadata": {
            "tags": []
          },
          "execution_count": 38
        }
      ]
    },
    {
      "cell_type": "markdown",
      "metadata": {
        "id": "FKZ1xl1w6nDY",
        "colab_type": "text"
      },
      "source": [
        "#Train word2vec Embeddings"
      ]
    },
    {
      "cell_type": "code",
      "metadata": {
        "id": "fcKvutWX67vV",
        "colab_type": "code",
        "colab": {}
      },
      "source": [
        "from gensim.models.word2vec import Word2Vec"
      ],
      "execution_count": 0,
      "outputs": []
    },
    {
      "cell_type": "code",
      "metadata": {
        "id": "o76lS1cK67r2",
        "colab_type": "code",
        "outputId": "26e71e31-06c7-4e8d-a56a-01371661b612",
        "colab": {
          "base_uri": "https://localhost:8080/",
          "height": 51
        }
      },
      "source": [
        "%%time\n",
        "word2vec_ted_model = Word2Vec(sentences=sentences_ted, size=100, window=5, min_count=5, workers=-1, sg=1)"
      ],
      "execution_count": 0,
      "outputs": [
        {
          "output_type": "stream",
          "text": [
            "CPU times: user 5.59 s, sys: 36.2 ms, total: 5.62 s\n",
            "Wall time: 5.63 s\n"
          ],
          "name": "stdout"
        }
      ]
    },
    {
      "cell_type": "code",
      "metadata": {
        "id": "2TMmlQte67oa",
        "colab_type": "code",
        "outputId": "9f6b1ee4-1503-43ef-c2ff-05859ba21a4b",
        "colab": {
          "base_uri": "https://localhost:8080/",
          "height": 241
        }
      },
      "source": [
        "word2vec_ted_model.wv.most_similar(\"india\")"
      ],
      "execution_count": 0,
      "outputs": [
        {
          "output_type": "stream",
          "text": [
            "/usr/local/lib/python3.6/dist-packages/gensim/matutils.py:737: FutureWarning: Conversion of the second argument of issubdtype from `int` to `np.signedinteger` is deprecated. In future, it will be treated as `np.int64 == np.dtype(int).type`.\n",
            "  if np.issubdtype(vec.dtype, np.int):\n"
          ],
          "name": "stderr"
        },
        {
          "output_type": "execute_result",
          "data": {
            "text/plain": [
              "[('straight', 0.36203503608703613),\n",
              " ('smith', 0.34995749592781067),\n",
              " ('royal', 0.3473374843597412),\n",
              " ('yale', 0.3392207622528076),\n",
              " ('weaknesses', 0.3338955044746399),\n",
              " ('biscuits', 0.3306465148925781),\n",
              " ('suicidal', 0.3214688301086426),\n",
              " ('attachments', 0.32116562128067017),\n",
              " ('sargassum', 0.3197120428085327),\n",
              " ('charts', 0.31942853331565857)]"
            ]
          },
          "metadata": {
            "tags": []
          },
          "execution_count": 41
        }
      ]
    },
    {
      "cell_type": "markdown",
      "metadata": {
        "id": "6zXH71f67JhA",
        "colab_type": "text"
      },
      "source": [
        "**fastText or word2vec?**\n",
        "\n",
        "#Document Embeddings"
      ]
    },
    {
      "cell_type": "code",
      "metadata": {
        "id": "Fp863kTg67le",
        "colab_type": "code",
        "colab": {}
      },
      "source": [
        "from gensim.models.doc2vec import Doc2Vec, TaggedDocument\n",
        "import gensim\n",
        "from pprint import pprint\n",
        "import multiprocessing"
      ],
      "execution_count": 0,
      "outputs": []
    },
    {
      "cell_type": "code",
      "metadata": {
        "id": "R8IrAsfX67hs",
        "colab_type": "code",
        "colab": {}
      },
      "source": [
        "import zipfile\n",
        "import lxml.etree\n",
        "with zipfile.ZipFile('data/ted_en.zip', 'r') as z:\n",
        "    doc = lxml.etree.parse(z.open('ted_en-20160408.xml', 'r'))\n",
        "    \n",
        "talks = doc.xpath('//content/text()')"
      ],
      "execution_count": 0,
      "outputs": []
    },
    {
      "cell_type": "code",
      "metadata": {
        "id": "9V3U5xLh67es",
        "colab_type": "code",
        "colab": {}
      },
      "source": [
        "def read_corpus(talks, tokens_only=False):\n",
        "    for i, line in enumerate(talks):\n",
        "        if tokens_only:\n",
        "            yield gensim.utils.simple_preprocess(line)\n",
        "        else:\n",
        "            # For training data, add tags\n",
        "            yield gensim.models.doc2vec.TaggedDocument(gensim.utils.simple_preprocess(line), [i])"
      ],
      "execution_count": 0,
      "outputs": []
    },
    {
      "cell_type": "code",
      "metadata": {
        "id": "LNwgvlSJ67bV",
        "colab_type": "code",
        "outputId": "0a199566-d778-4678-c946-6f9ab612b006",
        "colab": {
          "base_uri": "https://localhost:8080/",
          "height": 34
        }
      },
      "source": [
        "read_corpus(talks)"
      ],
      "execution_count": 0,
      "outputs": [
        {
          "output_type": "execute_result",
          "data": {
            "text/plain": [
              "<generator object read_corpus at 0x7fbc8c8dc518>"
            ]
          },
          "metadata": {
            "tags": []
          },
          "execution_count": 45
        }
      ]
    },
    {
      "cell_type": "code",
      "metadata": {
        "id": "UdYFiaKK67X6",
        "colab_type": "code",
        "colab": {}
      },
      "source": [
        "ted_talk_docs = list(read_corpus(talks))"
      ],
      "execution_count": 0,
      "outputs": []
    },
    {
      "cell_type": "code",
      "metadata": {
        "id": "n4g1R0El67UI",
        "colab_type": "code",
        "outputId": "26fa3d69-6dcb-4b8c-adca-2c9c74196000",
        "colab": {
          "base_uri": "https://localhost:8080/",
          "height": 54
        }
      },
      "source": [
        "print(ted_talk_docs[0])"
      ],
      "execution_count": 0,
      "outputs": [
        {
          "output_type": "stream",
          "text": [
            "TaggedDocument(['here', 'are', 'two', 'reasons', 'companies', 'fail', 'they', 'only', 'do', 'more', 'of', 'the', 'same', 'or', 'they', 'only', 'do', 'what', 'new', 'to', 'me', 'the', 'real', 'real', 'solution', 'to', 'quality', 'growth', 'is', 'figuring', 'out', 'the', 'balance', 'between', 'two', 'activities', 'exploration', 'and', 'exploitation', 'both', 'are', 'necessary', 'but', 'it', 'can', 'be', 'too', 'much', 'of', 'good', 'thing', 'consider', 'facit', 'actually', 'old', 'enough', 'to', 'remember', 'them', 'facit', 'was', 'fantastic', 'company', 'they', 'were', 'born', 'deep', 'in', 'the', 'swedish', 'forest', 'and', 'they', 'made', 'the', 'best', 'mechanical', 'calculators', 'in', 'the', 'world', 'everybody', 'used', 'them', 'and', 'what', 'did', 'facit', 'do', 'when', 'the', 'electronic', 'calculator', 'came', 'along', 'they', 'continued', 'doing', 'exactly', 'the', 'same', 'in', 'six', 'months', 'they', 'went', 'from', 'maximum', 'revenue', 'and', 'they', 'were', 'gone', 'gone', 'to', 'me', 'the', 'irony', 'about', 'the', 'facit', 'story', 'is', 'hearing', 'about', 'the', 'facit', 'engineers', 'who', 'had', 'bought', 'cheap', 'small', 'electronic', 'calculators', 'in', 'japan', 'that', 'they', 'used', 'to', 'double', 'check', 'their', 'calculators', 'laughter', 'facit', 'did', 'too', 'much', 'exploitation', 'but', 'exploration', 'can', 'go', 'wild', 'too', 'few', 'years', 'back', 'worked', 'closely', 'alongside', 'european', 'biotech', 'company', 'let', 'call', 'them', 'oncosearch', 'the', 'company', 'was', 'brilliant', 'they', 'had', 'applications', 'that', 'promised', 'to', 'diagnose', 'even', 'cure', 'certain', 'forms', 'of', 'blood', 'cancer', 'every', 'day', 'was', 'about', 'creating', 'something', 'new', 'they', 'were', 'extremely', 'innovative', 'and', 'the', 'mantra', 'was', 'when', 'we', 'only', 'get', 'it', 'right', 'or', 'even', 'we', 'want', 'it', 'perfect', 'the', 'sad', 'thing', 'is', 'before', 'they', 'became', 'perfect', 'even', 'good', 'enough', 'they', 'became', 'obsolete', 'oncosearch', 'did', 'too', 'much', 'exploration', 'first', 'heard', 'about', 'exploration', 'and', 'exploitation', 'about', 'years', 'ago', 'when', 'worked', 'as', 'visiting', 'scholar', 'at', 'stanford', 'university', 'the', 'founder', 'of', 'the', 'idea', 'is', 'jim', 'march', 'and', 'to', 'me', 'the', 'power', 'of', 'the', 'idea', 'is', 'its', 'practicality', 'exploration', 'exploration', 'is', 'about', 'coming', 'up', 'with', 'what', 'new', 'it', 'about', 'search', 'it', 'about', 'discovery', 'it', 'about', 'new', 'products', 'it', 'about', 'new', 'innovations', 'it', 'about', 'changing', 'our', 'frontiers', 'our', 'heroes', 'are', 'people', 'who', 'have', 'done', 'exploration', 'madame', 'curie', 'picasso', 'neil', 'armstrong', 'sir', 'edmund', 'hillary', 'etc', 'come', 'from', 'norway', 'all', 'our', 'heroes', 'are', 'explorers', 'and', 'they', 'deserve', 'to', 'be', 'we', 'all', 'know', 'that', 'exploration', 'is', 'risky', 'we', 'don', 'know', 'the', 'answers', 'we', 'don', 'know', 'if', 'we', 're', 'going', 'to', 'find', 'them', 'and', 'we', 'know', 'that', 'the', 'risks', 'are', 'high', 'exploitation', 'is', 'the', 'opposite', 'exploitation', 'is', 'taking', 'the', 'knowledge', 'we', 'have', 'and', 'making', 'good', 'better', 'exploitation', 'is', 'about', 'making', 'our', 'trains', 'run', 'on', 'time', 'it', 'about', 'making', 'good', 'products', 'faster', 'and', 'cheaper', 'exploitation', 'is', 'not', 'risky', 'in', 'the', 'short', 'term', 'but', 'if', 'we', 'only', 'exploit', 'it', 'very', 'risky', 'in', 'the', 'long', 'term', 'and', 'think', 'we', 'all', 'have', 'memories', 'of', 'the', 'famous', 'pop', 'groups', 'who', 'keep', 'singing', 'the', 'same', 'songs', 'again', 'and', 'again', 'until', 'they', 'become', 'obsolete', 'or', 'even', 'pathetic', 'that', 'the', 'risk', 'of', 'exploitation', 'so', 'if', 'we', 'take', 'long', 'term', 'perspective', 'we', 'explore', 'if', 'we', 'take', 'short', 'term', 'perspective', 'we', 'exploit', 'small', 'children', 'they', 'explore', 'all', 'day', 'all', 'day', 'it', 'about', 'exploration', 'as', 'we', 'grow', 'older', 'we', 'explore', 'less', 'because', 'we', 'have', 'more', 'knowledge', 'to', 'exploit', 'on', 'the', 'same', 'goes', 'for', 'companies', 'companies', 'become', 'by', 'nature', 'less', 'innovative', 'as', 'they', 'become', 'more', 'competent', 'and', 'this', 'is', 'of', 'course', 'big', 'worry', 'to', 'ceos', 'and', 'hear', 'very', 'often', 'questions', 'phrased', 'in', 'different', 'ways', 'for', 'example', 'how', 'can', 'both', 'effectively', 'run', 'and', 'reinvent', 'my', 'company', 'or', 'how', 'can', 'make', 'sure', 'that', 'our', 'company', 'changes', 'before', 'we', 'become', 'obsolete', 'or', 'are', 'hit', 'by', 'crisis', 'so', 'doing', 'one', 'well', 'is', 'difficult', 'doing', 'both', 'well', 'as', 'the', 'same', 'time', 'is', 'art', 'pushing', 'both', 'exploration', 'and', 'exploitation', 'so', 'one', 'thing', 'we', 've', 'found', 'is', 'only', 'about', 'two', 'percent', 'of', 'companies', 'are', 'able', 'to', 'effectively', 'explore', 'and', 'exploit', 'at', 'the', 'same', 'time', 'in', 'parallel', 'but', 'when', 'they', 'do', 'the', 'payoffs', 'are', 'huge', 'so', 'we', 'have', 'lots', 'of', 'great', 'examples', 'we', 'have', 'nestlé', 'creating', 'nespresso', 'we', 'have', 'lego', 'going', 'into', 'animated', 'films', 'toyota', 'creating', 'the', 'hybrids', 'unilever', 'pushing', 'into', 'sustainability', 'there', 'are', 'lots', 'of', 'examples', 'and', 'the', 'benefits', 'are', 'huge', 'why', 'is', 'balancing', 'so', 'difficult', 'think', 'it', 'difficult', 'because', 'there', 'are', 'so', 'many', 'traps', 'that', 'keep', 'us', 'where', 'we', 'are', 'so', 'll', 'talk', 'about', 'two', 'but', 'there', 'are', 'many', 'so', 'let', 'talk', 'about', 'the', 'perpetual', 'search', 'trap', 'we', 'discover', 'something', 'but', 'we', 'don', 'have', 'the', 'patience', 'or', 'the', 'persistence', 'to', 'get', 'at', 'it', 'and', 'make', 'it', 'work', 'so', 'instead', 'of', 'staying', 'with', 'it', 'we', 'create', 'something', 'new', 'but', 'the', 'same', 'goes', 'for', 'that', 'then', 'we', 're', 'in', 'the', 'vicious', 'circle', 'of', 'actually', 'coming', 'up', 'with', 'ideas', 'but', 'being', 'frustrated', 'oncosearch', 'was', 'good', 'example', 'famous', 'example', 'is', 'of', 'course', 'xerox', 'but', 'we', 'don', 'only', 'see', 'this', 'in', 'companies', 'we', 'see', 'this', 'in', 'the', 'public', 'sector', 'as', 'well', 'we', 'all', 'know', 'that', 'any', 'kind', 'of', 'effective', 'reform', 'of', 'education', 'research', 'health', 'care', 'even', 'defense', 'takes', 'maybe', 'years', 'to', 'work', 'but', 'still', 'we', 'change', 'much', 'more', 'often', 'we', 'really', 'don', 'give', 'them', 'the', 'chance', 'another', 'trap', 'is', 'the', 'success', 'trap', 'facit', 'fell', 'into', 'the', 'success', 'trap', 'they', 'literally', 'held', 'the', 'future', 'in', 'their', 'hands', 'but', 'they', 'couldn', 'see', 'it', 'they', 'were', 'simply', 'so', 'good', 'at', 'making', 'what', 'they', 'loved', 'doing', 'that', 'they', 'wouldn', 'change', 'we', 'are', 'like', 'that', 'too', 'when', 'we', 'know', 'something', 'well', 'it', 'difficult', 'to', 'change', 'bill', 'gates', 'has', 'said', 'success', 'is', 'lousy', 'teacher', 'it', 'seduces', 'us', 'into', 'thinking', 'we', 'cannot', 'fail', 'that', 'the', 'challenge', 'with', 'success', 'so', 'think', 'there', 'are', 'some', 'lessons', 'and', 'think', 'they', 'apply', 'to', 'us', 'and', 'they', 'apply', 'to', 'our', 'companies', 'the', 'first', 'lesson', 'is', 'get', 'ahead', 'of', 'the', 'crisis', 'and', 'any', 'company', 'that', 'able', 'to', 'innovate', 'is', 'actually', 'able', 'to', 'also', 'buy', 'an', 'insurance', 'in', 'the', 'future', 'netflix', 'they', 'could', 'so', 'easily', 'have', 'been', 'content', 'with', 'earlier', 'generations', 'of', 'distribution', 'but', 'they', 'always', 'and', 'think', 'they', 'will', 'always', 'keep', 'pushing', 'for', 'the', 'next', 'battle', 'see', 'other', 'companies', 'that', 'say', 'll', 'win', 'the', 'next', 'innovation', 'cycle', 'whatever', 'it', 'takes', 'second', 'one', 'think', 'in', 'multiple', 'time', 'scales', 'll', 'share', 'chart', 'with', 'you', 'and', 'think', 'it', 'wonderful', 'one', 'any', 'company', 'we', 'look', 'at', 'taking', 'one', 'year', 'perspective', 'and', 'looking', 'at', 'the', 'valuation', 'of', 'the', 'company', 'innovation', 'typically', 'accounts', 'for', 'only', 'about', 'percent', 'so', 'when', 'we', 'think', 'one', 'year', 'innovation', 'isn', 'really', 'that', 'important', 'move', 'ahead', 'take', 'year', 'perspective', 'on', 'the', 'same', 'company', 'suddenly', 'innovation', 'and', 'ability', 'to', 'renew', 'account', 'for', 'percent', 'but', 'companies', 'can', 'choose', 'they', 'need', 'to', 'fund', 'the', 'journey', 'and', 'lead', 'the', 'long', 'term', 'third', 'invite', 'talent', 'don', 'think', 'it', 'possible', 'for', 'any', 'of', 'us', 'to', 'be', 'able', 'to', 'balance', 'exploration', 'and', 'exploitation', 'by', 'ourselves', 'think', 'it', 'team', 'sport', 'think', 'we', 'need', 'to', 'allow', 'challenging', 'think', 'the', 'mark', 'of', 'great', 'company', 'is', 'being', 'open', 'to', 'be', 'challenged', 'and', 'the', 'mark', 'of', 'good', 'corporate', 'board', 'is', 'to', 'constructively', 'challenge', 'think', 'that', 'also', 'what', 'good', 'parenting', 'is', 'about', 'last', 'one', 'be', 'skeptical', 'of', 'success', 'maybe', 'it', 'useful', 'to', 'think', 'back', 'at', 'the', 'old', 'triumph', 'marches', 'in', 'rome', 'when', 'the', 'generals', 'after', 'big', 'victory', 'were', 'given', 'their', 'celebration', 'riding', 'into', 'rome', 'on', 'the', 'carriage', 'they', 'always', 'had', 'companion', 'whispering', 'in', 'their', 'ear', 'remember', 'you', 're', 'only', 'human', 'so', 'hope', 'made', 'the', 'point', 'balancing', 'exploration', 'and', 'exploitation', 'has', 'huge', 'payoff', 'but', 'it', 'difficult', 'and', 'we', 'need', 'to', 'be', 'conscious', 'want', 'to', 'just', 'point', 'out', 'two', 'questions', 'that', 'think', 'are', 'useful', 'first', 'question', 'is', 'looking', 'at', 'your', 'own', 'company', 'in', 'which', 'areas', 'do', 'you', 'see', 'that', 'the', 'company', 'is', 'at', 'the', 'risk', 'of', 'falling', 'into', 'success', 'traps', 'of', 'just', 'going', 'on', 'autopilot', 'and', 'what', 'can', 'you', 'do', 'to', 'challenge', 'second', 'question', 'is', 'when', 'did', 'explore', 'something', 'new', 'last', 'and', 'what', 'kind', 'of', 'effect', 'did', 'it', 'have', 'on', 'me', 'is', 'that', 'something', 'should', 'do', 'more', 'of', 'in', 'my', 'case', 'yes', 'so', 'let', 'me', 'leave', 'you', 'with', 'this', 'whether', 'you', 're', 'an', 'explorer', 'by', 'nature', 'or', 'whether', 'you', 'tend', 'to', 'exploit', 'what', 'you', 'already', 'know', 'don', 'forget', 'the', 'beauty', 'is', 'in', 'the', 'balance', 'thank', 'you', 'applause'], [0])\n"
          ],
          "name": "stdout"
        }
      ]
    },
    {
      "cell_type": "code",
      "metadata": {
        "id": "88wfD3EU67Lz",
        "colab_type": "code",
        "outputId": "43746eec-d96c-4223-e553-973abb97daa2",
        "colab": {
          "base_uri": "https://localhost:8080/",
          "height": 34
        }
      },
      "source": [
        "cores = multiprocessing.cpu_count()\n",
        "print(cores)"
      ],
      "execution_count": 0,
      "outputs": [
        {
          "output_type": "stream",
          "text": [
            "2\n"
          ],
          "name": "stdout"
        }
      ]
    },
    {
      "cell_type": "code",
      "metadata": {
        "id": "hRFs6GW-8R7X",
        "colab_type": "code",
        "colab": {}
      },
      "source": [
        "model = Doc2Vec(dm=0, vector_size=100, negative=5, hs=0, min_count=2, epochs=5, workers=cores)"
      ],
      "execution_count": 0,
      "outputs": []
    },
    {
      "cell_type": "code",
      "metadata": {
        "id": "faZ4DIw78R4w",
        "colab_type": "code",
        "outputId": "6453b2ef-0d9c-4cd3-dd19-310ff9b8c0fc",
        "colab": {
          "base_uri": "https://localhost:8080/",
          "height": 51
        }
      },
      "source": [
        "%time model.build_vocab(ted_talk_docs)"
      ],
      "execution_count": 0,
      "outputs": [
        {
          "output_type": "stream",
          "text": [
            "CPU times: user 8.5 s, sys: 110 ms, total: 8.61 s\n",
            "Wall time: 8.63 s\n"
          ],
          "name": "stdout"
        }
      ]
    },
    {
      "cell_type": "code",
      "metadata": {
        "id": "7b6Sk4ei8Rzs",
        "colab_type": "code",
        "colab": {}
      },
      "source": [
        "sentence_1 = 'Modern medicine has changed the way we think about healthcare, life spans and by extension career and marriage'"
      ],
      "execution_count": 0,
      "outputs": []
    },
    {
      "cell_type": "code",
      "metadata": {
        "id": "j1z0HhCF8RqG",
        "colab_type": "code",
        "colab": {}
      },
      "source": [
        "\n",
        "sentence_2 = 'Modern medicine is not just a boon to the rich, making the raw chemicals behind these is also pollutes the poorest neighborhoods'"
      ],
      "execution_count": 0,
      "outputs": []
    },
    {
      "cell_type": "code",
      "metadata": {
        "id": "VIgyah988iUo",
        "colab_type": "code",
        "colab": {}
      },
      "source": [
        "sentence_3 = 'Modern medicine has changed the way we think about healthcare, and increased life spans, delaying weddings'"
      ],
      "execution_count": 0,
      "outputs": []
    },
    {
      "cell_type": "code",
      "metadata": {
        "id": "S9dN0Vfi8iSS",
        "colab_type": "code",
        "outputId": "ccfa7166-3c85-4dcf-fc5a-7c74536999ee",
        "colab": {
          "base_uri": "https://localhost:8080/",
          "height": 88
        }
      },
      "source": [
        "model.docvecs.similarity_unseen_docs(model, sentence_1.split(), sentence_3.split())"
      ],
      "execution_count": 0,
      "outputs": [
        {
          "output_type": "stream",
          "text": [
            "/usr/local/lib/python3.6/dist-packages/gensim/matutils.py:737: FutureWarning: Conversion of the second argument of issubdtype from `int` to `np.signedinteger` is deprecated. In future, it will be treated as `np.int64 == np.dtype(int).type`.\n",
            "  if np.issubdtype(vec.dtype, np.int):\n"
          ],
          "name": "stderr"
        },
        {
          "output_type": "execute_result",
          "data": {
            "text/plain": [
              "-0.029946072"
            ]
          },
          "metadata": {
            "tags": []
          },
          "execution_count": 59
        }
      ]
    },
    {
      "cell_type": "code",
      "metadata": {
        "id": "EBCCWWlw8iPZ",
        "colab_type": "code",
        "outputId": "9b083c65-10ce-4d3f-b31a-787df430220f",
        "colab": {
          "base_uri": "https://localhost:8080/",
          "height": 88
        }
      },
      "source": [
        "model.docvecs.similarity_unseen_docs(model, sentence_1.split(), sentence_2.split())"
      ],
      "execution_count": 0,
      "outputs": [
        {
          "output_type": "stream",
          "text": [
            "/usr/local/lib/python3.6/dist-packages/gensim/matutils.py:737: FutureWarning: Conversion of the second argument of issubdtype from `int` to `np.signedinteger` is deprecated. In future, it will be treated as `np.int64 == np.dtype(int).type`.\n",
            "  if np.issubdtype(vec.dtype, np.int):\n"
          ],
          "name": "stderr"
        },
        {
          "output_type": "execute_result",
          "data": {
            "text/plain": [
              "-0.2710956"
            ]
          },
          "metadata": {
            "tags": []
          },
          "execution_count": 60
        }
      ]
    },
    {
      "cell_type": "code",
      "metadata": {
        "id": "QcWV_RvN8iMD",
        "colab_type": "code",
        "outputId": "f911fb2f-38d1-4aaf-9cdf-d46976470482",
        "colab": {
          "base_uri": "https://localhost:8080/",
          "height": 51
        }
      },
      "source": [
        "%time model.train(ted_talk_docs, total_examples=model.corpus_count, epochs=model.epochs)"
      ],
      "execution_count": 0,
      "outputs": [
        {
          "output_type": "stream",
          "text": [
            "CPU times: user 40.9 s, sys: 200 ms, total: 41.1 s\n",
            "Wall time: 21.4 s\n"
          ],
          "name": "stdout"
        }
      ]
    },
    {
      "cell_type": "code",
      "metadata": {
        "id": "bw1wlV1o8iIZ",
        "colab_type": "code",
        "outputId": "370478ce-bb70-4ccb-b395-b0dae42693ee",
        "colab": {
          "base_uri": "https://localhost:8080/",
          "height": 374
        }
      },
      "source": [
        "model.infer_vector(sentence_1.split())"
      ],
      "execution_count": 0,
      "outputs": [
        {
          "output_type": "execute_result",
          "data": {
            "text/plain": [
              "array([ 0.05769451,  0.02035589, -0.1454503 , -0.06174285, -0.02289042,\n",
              "       -0.10213989, -0.08131486, -0.09142482, -0.01179488,  0.11928166,\n",
              "       -0.02452498, -0.02419745, -0.00607277, -0.1483039 ,  0.05172996,\n",
              "        0.13771448,  0.03145176, -0.19651736, -0.13508199, -0.00478769,\n",
              "       -0.07966698, -0.04353228,  0.06385525, -0.05305105, -0.0202617 ,\n",
              "       -0.15225968,  0.003328  ,  0.0540623 , -0.15258513, -0.1081012 ,\n",
              "        0.12409838, -0.05138121, -0.09012511, -0.07147333, -0.14038157,\n",
              "        0.18344541, -0.09624001,  0.01520134,  0.10863149, -0.04114882,\n",
              "       -0.06682971, -0.05707677,  0.17753433, -0.06419012,  0.00927438,\n",
              "        0.04007374,  0.0860406 , -0.17649081, -0.05031716, -0.09726327,\n",
              "       -0.20834132, -0.10361291, -0.02176658, -0.08745968, -0.01601041,\n",
              "       -0.00867863, -0.10202109,  0.14325444,  0.03028674,  0.00912757,\n",
              "       -0.04258632,  0.11543725,  0.03265692, -0.09924871,  0.0896194 ,\n",
              "        0.05071303,  0.10801093,  0.01203658, -0.01569997,  0.01791796,\n",
              "        0.17726183, -0.01247354,  0.16926202,  0.02520927,  0.11465609,\n",
              "       -0.13469641, -0.05900892, -0.02909471,  0.05331953,  0.00804163,\n",
              "        0.07142195, -0.1624198 , -0.0171824 , -0.1402094 ,  0.00123278,\n",
              "        0.10730685,  0.03767557, -0.17581724, -0.00576381, -0.01427813,\n",
              "        0.02672465,  0.10171524,  0.06541267,  0.06872272, -0.04376473,\n",
              "       -0.05136883, -0.03454354, -0.04039528, -0.09978123, -0.12269694],\n",
              "      dtype=float32)"
            ]
          },
          "metadata": {
            "tags": []
          },
          "execution_count": 62
        }
      ]
    },
    {
      "cell_type": "code",
      "metadata": {
        "id": "VqAs0fjH8iBU",
        "colab_type": "code",
        "outputId": "2b701b9a-f2bb-4c97-89a6-429a8beb2411",
        "colab": {
          "base_uri": "https://localhost:8080/",
          "height": 88
        }
      },
      "source": [
        "model.docvecs.similarity_unseen_docs(model, sentence_1.split(), sentence_3.split())"
      ],
      "execution_count": 0,
      "outputs": [
        {
          "output_type": "stream",
          "text": [
            "/usr/local/lib/python3.6/dist-packages/gensim/matutils.py:737: FutureWarning: Conversion of the second argument of issubdtype from `int` to `np.signedinteger` is deprecated. In future, it will be treated as `np.int64 == np.dtype(int).type`.\n",
            "  if np.issubdtype(vec.dtype, np.int):\n"
          ],
          "name": "stderr"
        },
        {
          "output_type": "execute_result",
          "data": {
            "text/plain": [
              "0.90387654"
            ]
          },
          "metadata": {
            "tags": []
          },
          "execution_count": 63
        }
      ]
    },
    {
      "cell_type": "code",
      "metadata": {
        "id": "nhpwab7s82zi",
        "colab_type": "code",
        "outputId": "3de3917e-808d-4136-8a66-49c22e398d27",
        "colab": {
          "base_uri": "https://localhost:8080/",
          "height": 88
        }
      },
      "source": [
        "model.docvecs.similarity_unseen_docs(model, sentence_1.split(), sentence_2.split())"
      ],
      "execution_count": 0,
      "outputs": [
        {
          "output_type": "stream",
          "text": [
            "/usr/local/lib/python3.6/dist-packages/gensim/matutils.py:737: FutureWarning: Conversion of the second argument of issubdtype from `int` to `np.signedinteger` is deprecated. In future, it will be treated as `np.int64 == np.dtype(int).type`.\n",
            "  if np.issubdtype(vec.dtype, np.int):\n"
          ],
          "name": "stderr"
        },
        {
          "output_type": "execute_result",
          "data": {
            "text/plain": [
              "0.66175693"
            ]
          },
          "metadata": {
            "tags": []
          },
          "execution_count": 64
        }
      ]
    },
    {
      "cell_type": "code",
      "metadata": {
        "id": "RwlZwOpD84Wq",
        "colab_type": "code",
        "outputId": "eaf472ec-e185-4e44-a985-ec8077a32483",
        "colab": {
          "base_uri": "https://localhost:8080/",
          "height": 88
        }
      },
      "source": [
        "model.docvecs.similarity_unseen_docs(model, sentence_2.split(), sentence_3.split())"
      ],
      "execution_count": 0,
      "outputs": [
        {
          "output_type": "stream",
          "text": [
            "/usr/local/lib/python3.6/dist-packages/gensim/matutils.py:737: FutureWarning: Conversion of the second argument of issubdtype from `int` to `np.signedinteger` is deprecated. In future, it will be treated as `np.int64 == np.dtype(int).type`.\n",
            "  if np.issubdtype(vec.dtype, np.int):\n"
          ],
          "name": "stderr"
        },
        {
          "output_type": "execute_result",
          "data": {
            "text/plain": [
              "0.7485609"
            ]
          },
          "metadata": {
            "tags": []
          },
          "execution_count": 65
        }
      ]
    },
    {
      "cell_type": "markdown",
      "metadata": {
        "id": "vh0ywpRd9AfD",
        "colab_type": "text"
      },
      "source": [
        "# Model Assessment"
      ]
    },
    {
      "cell_type": "code",
      "metadata": {
        "id": "l1D0Z0W084S4",
        "colab_type": "code",
        "outputId": "963075e7-a959-4b09-f023-f8bd7da4fb7a",
        "colab": {
          "base_uri": "https://localhost:8080/",
          "height": 71
        }
      },
      "source": [
        "ranks = []\n",
        "for idx in range(len(ted_talk_docs)):\n",
        "    inferred_vector = model.infer_vector(ted_talk_docs[idx].words)\n",
        "    sims = model.docvecs.most_similar([inferred_vector], topn=len(model.docvecs))\n",
        "    rank = [docid for docid, sim in sims].index(idx)\n",
        "    ranks.append(rank)"
      ],
      "execution_count": 0,
      "outputs": [
        {
          "output_type": "stream",
          "text": [
            "/usr/local/lib/python3.6/dist-packages/gensim/matutils.py:737: FutureWarning: Conversion of the second argument of issubdtype from `int` to `np.signedinteger` is deprecated. In future, it will be treated as `np.int64 == np.dtype(int).type`.\n",
            "  if np.issubdtype(vec.dtype, np.int):\n"
          ],
          "name": "stderr"
        }
      ]
    },
    {
      "cell_type": "code",
      "metadata": {
        "id": "xL7UT4sn84Of",
        "colab_type": "code",
        "outputId": "f4f926ce-7fee-41b9-9f0a-20e78735415a",
        "colab": {
          "base_uri": "https://localhost:8080/",
          "height": 34
        }
      },
      "source": [
        "import collections\n",
        "collections.Counter(ranks)  # Results vary due to random seeding + very small corpus"
      ],
      "execution_count": 0,
      "outputs": [
        {
          "output_type": "execute_result",
          "data": {
            "text/plain": [
              "Counter({0: 2080, 1: 1, 3: 3, 4: 1})"
            ]
          },
          "metadata": {
            "tags": []
          },
          "execution_count": 67
        }
      ]
    },
    {
      "cell_type": "code",
      "metadata": {
        "id": "6LyDHJT582wy",
        "colab_type": "code",
        "outputId": "13aa8599-4045-4505-cb07-bd3e26d4ef74",
        "colab": {
          "base_uri": "https://localhost:8080/",
          "height": 190
        }
      },
      "source": [
        "doc_slice = ' '.join(ted_talk_docs[idx].words)[:500]\n",
        "print(f'Document ({idx}): «{doc_slice}»\\n')\n",
        "print(f'SIMILAR/DISSIMILAR DOCS PER MODEL {model}')\n",
        "for label, index in [('MOST', 0), ('MEDIAN', len(sims)//2), ('LEAST', len(sims) - 1)]:\n",
        "      doc_slice = ' '.join(ted_talk_docs[sims[index][0]].words)[:500]\n",
        "      print(f'{label} {sims[index]}: «{doc_slice}»\\n')"
      ],
      "execution_count": 0,
      "outputs": [
        {
          "output_type": "stream",
          "text": [
            "Document (2084): «if you re here today and very happy that you are you ve all heard about how sustainable development will save us from ourselves however when we re not at ted we are often told that real sustainability policy agenda is just not feasible especially in large urban areas like new york city and that because most people with decision making powers in both the public and the private sector really don feel as though they re in danger the reason why here today in part is because of dog an abandoned puppy»\n",
            "\n",
            "SIMILAR/DISSIMILAR DOCS PER MODEL Doc2Vec(dbow,d100,n5,mc2,s0.001,t2)\n",
            "MOST (2084, 0.9415737390518188): «if you re here today and very happy that you are you ve all heard about how sustainable development will save us from ourselves however when we re not at ted we are often told that real sustainability policy agenda is just not feasible especially in large urban areas like new york city and that because most people with decision making powers in both the public and the private sector really don feel as though they re in danger the reason why here today in part is because of dog an abandoned puppy»\n",
            "\n",
            "MEDIAN (1476, 0.44558626413345337): «music applause jon chu and not dancer not choreographer actually filmmaker storyteller directed movie two years ago called step up the streets anybody anybody yeah during that movie got to meet ton of hip hop dancers amazing the best in the world and they brought me into society the sort of underground street culture that blew my mind mean this is literally human beings with super human strength and abilities they could fly in the air they could bend their elbow all the way back they could spin »\n",
            "\n",
            "LEAST (609, 0.14909227192401886): «adam ockelford promise there won be too much of me talking and lot of derek playing but thought it would just be nice to recap on how derek got to where he is today it amazing now because he so much bigger than me but when derek was born he could have fitted on the palm of your hand he was born three and half months premature and really it was fantastic fight for him to survive he had to have lot of oxygen and that affected your eyes derek and also the way you understand language and the way you»\n",
            "\n"
          ],
          "name": "stdout"
        }
      ]
    },
    {
      "cell_type": "code",
      "metadata": {
        "id": "pmteLmOT82sA",
        "colab_type": "code",
        "colab": {}
      },
      "source": [
        ""
      ],
      "execution_count": 0,
      "outputs": []
    },
    {
      "cell_type": "code",
      "metadata": {
        "id": "4FPd_7xr82lx",
        "colab_type": "code",
        "colab": {}
      },
      "source": [
        ""
      ],
      "execution_count": 0,
      "outputs": []
    },
    {
      "cell_type": "code",
      "metadata": {
        "id": "WZLgnE6f82il",
        "colab_type": "code",
        "colab": {}
      },
      "source": [
        ""
      ],
      "execution_count": 0,
      "outputs": []
    },
    {
      "cell_type": "code",
      "metadata": {
        "id": "6E8xdcaD82d-",
        "colab_type": "code",
        "colab": {}
      },
      "source": [
        ""
      ],
      "execution_count": 0,
      "outputs": []
    }
  ]
}