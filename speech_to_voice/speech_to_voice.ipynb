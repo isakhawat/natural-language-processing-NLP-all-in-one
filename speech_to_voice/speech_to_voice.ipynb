{
  "nbformat": 4,
  "nbformat_minor": 0,
  "metadata": {
    "colab": {
      "name": "speech to voice.ipynb",
      "provenance": []
    },
    "kernelspec": {
      "name": "python3",
      "display_name": "Python 3"
    }
  },
  "cells": [
    {
      "cell_type": "code",
      "metadata": {
        "id": "_ORnQcJYdW5N",
        "colab_type": "code",
        "outputId": "b014301f-6de5-4c3b-fac4-cead0931c16d",
        "colab": {
          "base_uri": "https://localhost:8080/",
          "height": 34
        }
      },
      "source": [
        "# Import the required module for text \n",
        "# to speech conversion\n",
        "from gtts import gTTS\n",
        "from playsound import playsound\n",
        " \n",
        "# This module is imported so that we can \n",
        "# play the converted audio\n",
        "import os\n",
        " \n",
        "# The text that you want to convert to audio\n",
        "mytext = 'My Baby samraddhi is playing with my mobile phone.Amazing my dear!'\n",
        " \n",
        "# Language in which you want to convert\n",
        "language = 'en'\n",
        " \n",
        "# Passing the text and language to the engine, \n",
        "# here we have marked slow=False. Which tells \n",
        "# the module that the converted audio should \n",
        "# have a high speed\n",
        "myobj = gTTS(text=mytext, lang=language, slow=False)\n",
        " \n",
        "# Saving the converted audio in a mp3 file named\n",
        "# welcome \n",
        "myobj.save(\"welcome.mp3\")\n",
        " \n",
        "# Playing the converted file\n",
        "#os.system(\"mpg321 welcome.mp3\")\n",
        "playsound(\"welcome.mp3\")"
      ],
      "execution_count": 0,
      "outputs": [
        {
          "output_type": "stream",
          "text": [
            "Current working directory: /content\n"
          ],
          "name": "stdout"
        }
      ]
    },
    {
      "cell_type": "code",
      "metadata": {
        "id": "5jkOW2gllY-r",
        "colab_type": "code",
        "outputId": "e614d42d-87bf-43ac-9919-803d2c3fdf15",
        "colab": {
          "base_uri": "https://localhost:8080/",
          "height": 360
        }
      },
      "source": [
        "!pip install gTTS"
      ],
      "execution_count": 0,
      "outputs": [
        {
          "output_type": "stream",
          "text": [
            "Collecting gTTS\n",
            "  Downloading https://files.pythonhosted.org/packages/b5/e7/29f8d334627629aa842ecd13a77c82c5419de849c53e906f472ce7e0c768/gTTS-2.1.0-py3-none-any.whl\n",
            "Requirement already satisfied: click in /usr/local/lib/python3.6/dist-packages (from gTTS) (7.0)\n",
            "Collecting gtts-token>=1.1.3\n",
            "  Downloading https://files.pythonhosted.org/packages/e7/25/ca6e9cd3275bfc3097fe6b06cc31db6d3dfaf32e032e0f73fead9c9a03ce/gTTS-token-1.1.3.tar.gz\n",
            "Requirement already satisfied: beautifulsoup4 in /usr/local/lib/python3.6/dist-packages (from gTTS) (4.6.3)\n",
            "Requirement already satisfied: requests in /usr/local/lib/python3.6/dist-packages (from gTTS) (2.21.0)\n",
            "Requirement already satisfied: six in /usr/local/lib/python3.6/dist-packages (from gTTS) (1.12.0)\n",
            "Requirement already satisfied: idna<2.9,>=2.5 in /usr/local/lib/python3.6/dist-packages (from requests->gTTS) (2.8)\n",
            "Requirement already satisfied: certifi>=2017.4.17 in /usr/local/lib/python3.6/dist-packages (from requests->gTTS) (2019.11.28)\n",
            "Requirement already satisfied: urllib3<1.25,>=1.21.1 in /usr/local/lib/python3.6/dist-packages (from requests->gTTS) (1.24.3)\n",
            "Requirement already satisfied: chardet<3.1.0,>=3.0.2 in /usr/local/lib/python3.6/dist-packages (from requests->gTTS) (3.0.4)\n",
            "Building wheels for collected packages: gtts-token\n",
            "  Building wheel for gtts-token (setup.py) ... \u001b[?25l\u001b[?25hdone\n",
            "  Created wheel for gtts-token: filename=gTTS_token-1.1.3-cp36-none-any.whl size=4097 sha256=0ca0bcb89e17fe3ad05a04caf806eb291536fb506039f738c158d4ff5537a734\n",
            "  Stored in directory: /root/.cache/pip/wheels/dd/11/61/33f7e51bf545e910552b2255eead2a7cd8ef54064b46dceb34\n",
            "Successfully built gtts-token\n",
            "Installing collected packages: gtts-token, gTTS\n",
            "Successfully installed gTTS-2.1.0 gtts-token-1.1.3\n"
          ],
          "name": "stdout"
        }
      ]
    },
    {
      "cell_type": "code",
      "metadata": {
        "id": "v7CwUnIaeqBO",
        "colab_type": "code",
        "outputId": "582e53f3-e10d-4880-fa15-f221c0e27236",
        "colab": {
          "base_uri": "https://localhost:8080/",
          "height": 34
        }
      },
      "source": [
        " # Import the required module for text  \n",
        "# to speech conversion \n",
        "from gtts import gTTS \n",
        "  \n",
        "# This module is imported so that we can  \n",
        "# play the converted audio \n",
        "import os \n",
        "  \n",
        "# The text that you want to convert to audio \n",
        "mytext = 'দুর্নীতি দমন কমিশনের (দুদক) মামলায় সাবেক প্রধান বিচারপতি এস কে সিনহাসহ ১১ জন পলাতক আসামির নামে জাতীয় পত্রিকায় বিজ্ঞপ্তি প্রকাশের নির্দেশ দিয়েছেন আদালত। ঢাকা মহানগরের সিনিয়র স্পেশাল জজ কে এম ইমরুল কায়েস আজ বুধবার এ আদেশ দেন।আদালত সূত্র বলছে, এর আগে ৫ জানুয়ারি সাবেক প্রধান বিচারপতি এস কে সিনহাসহ ১১ জনের বিরুদ্ধে গ্রেপ্তারি পরোয়ানা জারি করেন আদালত। আজ ওই গ্রেপ্তারি পরোয়ানার তামিল প্রতিবেদন জমা দেওয়ার দিন ধার্য ছিল। পুলিশের পক্ষ থেকে আদালতে প্রতিবেদন দিয়ে বলা হয়, এস কে সিনহাসহ অন্যদের গ্রেপ্তার করা যায়নি। আদালত ওই প্রতিবেদন দিয়ে তাঁদের বিরুদ্ধে পত্রিকায় বিজ্ঞপ্তি প্রকাশের নির্দেশ দেন। এ–সংক্রান্ত প্রতিবেদন ও মামলার শুনানির জন্য নতুন দিন ঠিক করা হয়েছে আগামী ২০ ফেব্রুয়ারি।'\n",
        "# Language in which you want to convert \n",
        "language = 'bn'\n",
        "  \n",
        "# Passing the text and language to the engine,  \n",
        "# here we have marked slow=False. Which tells  \n",
        "# the module that the converted audio should  \n",
        "# have a high speed \n",
        "myobj = gTTS(text=mytext, lang=language, slow=False) \n",
        "  \n",
        "# Saving the converted audio in a mp3 file named \n",
        "# welcome  \n",
        "myobj.save(\"welcome.mp3\") \n",
        "  \n",
        "# Playing the converted file \n",
        "os.system(\"mpg321 welcome.mp3\") "
      ],
      "execution_count": 0,
      "outputs": [
        {
          "output_type": "execute_result",
          "data": {
            "text/plain": [
              "32512"
            ]
          },
          "metadata": {
            "tags": []
          },
          "execution_count": 22
        }
      ]
    },
    {
      "cell_type": "code",
      "metadata": {
        "id": "BxOY_ulBoHqg",
        "colab_type": "code",
        "outputId": "1000bd1b-3008-4a5e-b239-76e3273216e0",
        "colab": {
          "base_uri": "https://localhost:8080/",
          "height": 105
        }
      },
      "source": [
        "!pip install playsound"
      ],
      "execution_count": 0,
      "outputs": [
        {
          "output_type": "stream",
          "text": [
            "Collecting playsound\n",
            "  Downloading https://files.pythonhosted.org/packages/f5/16/10d897b0a83fb4b05b03a63d7a2667ab75f857f67f7062fd447dd3f49bf7/playsound-1.2.2-py2.py3-none-any.whl\n",
            "Installing collected packages: playsound\n",
            "Successfully installed playsound-1.2.2\n"
          ],
          "name": "stdout"
        }
      ]
    },
    {
      "cell_type": "code",
      "metadata": {
        "id": "4rTeq9Swn51I",
        "colab_type": "code",
        "colab": {}
      },
      "source": [
        "from gtts import gTTS\n",
        "import playsound\n",
        "import os\n",
        "tts = gTTS(text='দর্শকেরা আমি তানভীর ইসলাম ইস্ত্রিম । চাইতেছি বাংলা  সহকারি বানাতে ? আর সেটা উন্মুক্ত করে দিতে । আপনারা কি এই প্রোজেক্ট এ কাজ করবেন ? ', lang='bn')\n",
        "tts.save(\"good.mp3\")\n",
        "os.system(\"mpg321 good.mp3\")\n",
        "playsound.playsound('good.mp3', True)"
      ],
      "execution_count": 0,
      "outputs": []
    }
  ]
}