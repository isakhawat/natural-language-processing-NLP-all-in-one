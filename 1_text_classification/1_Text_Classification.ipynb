{
  "nbformat": 4,
  "nbformat_minor": 0,
  "metadata": {
    "colab": {
      "name": "1. Text Classification.ipynb",
      "provenance": [],
      "toc_visible": true
    },
    "kernelspec": {
      "name": "python3",
      "display_name": "Python 3"
    }
  },
  "cells": [
    {
      "cell_type": "markdown",
      "metadata": {
        "id": "TvNhtVZWVXkq",
        "colab_type": "text"
      },
      "source": [
        "\n",
        "#Text Classification"
      ]
    },
    {
      "cell_type": "code",
      "metadata": {
        "id": "Rt5hJaDxUiqo",
        "colab_type": "code",
        "colab": {}
      },
      "source": [
        "import spacy\n",
        "\n",
        "from sklearn.datasets import fetch_20newsgroups  # import packages which help us download dataset and load intp python\n",
        "from sklearn.pipeline import Pipeline\n",
        "\n",
        "import numpy as np  # numpy package is for fast numerical computation in Python"
      ],
      "execution_count": 0,
      "outputs": []
    },
    {
      "cell_type": "code",
      "metadata": {
        "id": "w0ISLyMeUtil",
        "colab_type": "code",
        "colab": {}
      },
      "source": [
        "# Load the filenames and data from the 20 newsgroups dataset\n",
        "# This will download the datasets if you don't have them already\n",
        "twenty_train = fetch_20newsgroups(subset='train', shuffle=True, download_if_missing=True)  \n",
        "twenty_test = fetch_20newsgroups(subset='test', shuffle=True, download_if_missing=True)"
      ],
      "execution_count": 0,
      "outputs": []
    },
    {
      "cell_type": "code",
      "metadata": {
        "id": "X5G4GB8uVmfE",
        "colab_type": "code",
        "colab": {}
      },
      "source": [
        "# What is this dataset about? \n",
        "#print(twenty_train.description)\n",
        "twenty_train.description"
      ],
      "execution_count": 0,
      "outputs": []
    },
    {
      "cell_type": "code",
      "metadata": {
        "id": "9jOGjzBzVmcj",
        "colab_type": "code",
        "outputId": "0c64b70b-8c31-4e25-9c80-530da1592fc4",
        "colab": {
          "base_uri": "https://localhost:8080/",
          "height": 391
        }
      },
      "source": [
        "#twenty_train.data[0]\n",
        "print(twenty_train.data[0])"
      ],
      "execution_count": 0,
      "outputs": [
        {
          "output_type": "stream",
          "text": [
            "From: lerxst@wam.umd.edu (where's my thing)\n",
            "Subject: WHAT car is this!?\n",
            "Nntp-Posting-Host: rac3.wam.umd.edu\n",
            "Organization: University of Maryland, College Park\n",
            "Lines: 15\n",
            "\n",
            " I was wondering if anyone out there could enlighten me on this car I saw\n",
            "the other day. It was a 2-door sports car, looked to be from the late 60s/\n",
            "early 70s. It was called a Bricklin. The doors were really small. In addition,\n",
            "the front bumper was separate from the rest of the body. This is \n",
            "all I know. If anyone can tellme a model name, engine specs, years\n",
            "of production, where this car is made, history, or whatever info you\n",
            "have on this funky looking car, please e-mail.\n",
            "\n",
            "Thanks,\n",
            "- IL\n",
            "   ---- brought to you by your neighborhood Lerxst ----\n",
            "\n",
            "\n",
            "\n",
            "\n",
            "\n"
          ],
          "name": "stdout"
        }
      ]
    },
    {
      "cell_type": "code",
      "metadata": {
        "id": "Gg4505wdVmZs",
        "colab_type": "code",
        "outputId": "b3fc3632-2f2a-4b97-dfc4-6655ffb535f1",
        "colab": {
          "base_uri": "https://localhost:8080/",
          "height": 357
        }
      },
      "source": [
        "twenty_train.target_names"
      ],
      "execution_count": 0,
      "outputs": [
        {
          "output_type": "execute_result",
          "data": {
            "text/plain": [
              "['alt.atheism',\n",
              " 'comp.graphics',\n",
              " 'comp.os.ms-windows.misc',\n",
              " 'comp.sys.ibm.pc.hardware',\n",
              " 'comp.sys.mac.hardware',\n",
              " 'comp.windows.x',\n",
              " 'misc.forsale',\n",
              " 'rec.autos',\n",
              " 'rec.motorcycles',\n",
              " 'rec.sport.baseball',\n",
              " 'rec.sport.hockey',\n",
              " 'sci.crypt',\n",
              " 'sci.electronics',\n",
              " 'sci.med',\n",
              " 'sci.space',\n",
              " 'soc.religion.christian',\n",
              " 'talk.politics.guns',\n",
              " 'talk.politics.mideast',\n",
              " 'talk.politics.misc',\n",
              " 'talk.religion.misc']"
            ]
          },
          "metadata": {
            "tags": []
          },
          "execution_count": 12
        }
      ]
    },
    {
      "cell_type": "markdown",
      "metadata": {
        "id": "H1sEkWapX0Hk",
        "colab_type": "text"
      },
      "source": [
        "**Why do we need to convert text to numbers?**"
      ]
    },
    {
      "cell_type": "code",
      "metadata": {
        "id": "HkFTXZt7VmWc",
        "colab_type": "code",
        "outputId": "6b8c79cb-aaf4-4210-ca01-7263cb18187e",
        "colab": {
          "base_uri": "https://localhost:8080/",
          "height": 34
        }
      },
      "source": [
        "# Extracting features from text files\n",
        "from sklearn.feature_extraction.text import CountVectorizer\n",
        "count_vect = CountVectorizer()\n",
        "X_train_counts = count_vect.fit_transform(twenty_train.data)\n",
        "print(f'Shape of Term Frequency Matrix: {X_train_counts.shape}')"
      ],
      "execution_count": 0,
      "outputs": [
        {
          "output_type": "stream",
          "text": [
            "Shape of Term Frequency Matrix: (11314, 130107)\n"
          ],
          "name": "stdout"
        }
      ]
    },
    {
      "cell_type": "code",
      "metadata": {
        "id": "k6fPuWf5VmTw",
        "colab_type": "code",
        "outputId": "7816cb66-39b0-4bea-d1dc-2b65273847f2",
        "colab": {
          "base_uri": "https://localhost:8080/",
          "height": 34
        }
      },
      "source": [
        "from sklearn.feature_extraction.text import TfidfTransformer\n",
        "tfidf_transformer = TfidfTransformer()\n",
        "X_train_tfidf = tfidf_transformer.fit_transform(X_train_counts)\n",
        "print(f'Shape of TFIDF Matrix: {X_train_tfidf.shape}')"
      ],
      "execution_count": 0,
      "outputs": [
        {
          "output_type": "stream",
          "text": [
            "Shape of TFIDF Matrix: (11314, 130107)\n"
          ],
          "name": "stdout"
        }
      ]
    },
    {
      "cell_type": "code",
      "metadata": {
        "id": "9TVxs4NCVmQS",
        "colab_type": "code",
        "colab": {}
      },
      "source": [
        "# Machine Learning\n",
        "# Training Naive Bayes (NB) classifier on training data.\n",
        "from sklearn.naive_bayes import MultinomialNB\n",
        "clf = MultinomialNB().fit(X_train_tfidf, twenty_train.target)"
      ],
      "execution_count": 0,
      "outputs": []
    },
    {
      "cell_type": "code",
      "metadata": {
        "id": "u5nWnQubVmNC",
        "colab_type": "code",
        "colab": {}
      },
      "source": [
        "# Building a pipeline: We can write less code and do all of the above, by building a pipeline as follows:\n",
        "text_nb_clf = Pipeline([('vect', CountVectorizer()), ('tfidf', TfidfTransformer()), ('clf', MultinomialNB())])\n",
        "text_nb_clf = text_nb_clf.fit(twenty_train.data, twenty_train.target)"
      ],
      "execution_count": 0,
      "outputs": []
    },
    {
      "cell_type": "code",
      "metadata": {
        "id": "_AvmGIqQYSRV",
        "colab_type": "code",
        "colab": {}
      },
      "source": [
        "predicted = text_nb_clf.predict(twenty_test.data)\n",
        "naivebayes_clf_accuracy = np.mean(predicted == twenty_test.target)* 100"
      ],
      "execution_count": 0,
      "outputs": []
    },
    {
      "cell_type": "code",
      "metadata": {
        "id": "qZOqTcJEYSOR",
        "colab_type": "code",
        "outputId": "5a7ddbf8-4153-45fa-c9f8-1e6f658fbd60",
        "colab": {
          "base_uri": "https://localhost:8080/",
          "height": 34
        }
      },
      "source": [
        "print(f'Test Accuracy is {naivebayes_clf_accuracy} %')"
      ],
      "execution_count": 0,
      "outputs": [
        {
          "output_type": "stream",
          "text": [
            "Test Accuracy is 77.38980350504514 %\n"
          ],
          "name": "stdout"
        }
      ]
    },
    {
      "cell_type": "code",
      "metadata": {
        "id": "uYYuyBKfYSL9",
        "colab_type": "code",
        "colab": {}
      },
      "source": [
        "from sklearn.linear_model import LogisticRegression as LR"
      ],
      "execution_count": 0,
      "outputs": []
    },
    {
      "cell_type": "code",
      "metadata": {
        "id": "cSCn-ZGmYSIs",
        "colab_type": "code",
        "outputId": "600c3ce4-baaf-4778-803e-2743f9a94c07",
        "colab": {
          "base_uri": "https://localhost:8080/",
          "height": 51
        }
      },
      "source": [
        "%%time\n",
        "text_lr_clf = Pipeline([('vect', CountVectorizer()), ('tfidf', TfidfTransformer()), ('clf',LR())])\n",
        "text_lr_clf = text_lr_clf.fit(twenty_train.data, twenty_train.target)"
      ],
      "execution_count": 0,
      "outputs": [
        {
          "output_type": "stream",
          "text": [
            "CPU times: user 1min 22s, sys: 11.1 s, total: 1min 33s\n",
            "Wall time: 1min 21s\n"
          ],
          "name": "stdout"
        }
      ]
    },
    {
      "cell_type": "code",
      "metadata": {
        "id": "Zcde8QONY28c",
        "colab_type": "code",
        "outputId": "90406974-6722-4418-ab01-fc5c26c298f3",
        "colab": {
          "base_uri": "https://localhost:8080/",
          "height": 34
        }
      },
      "source": [
        "lr_predicted = text_lr_clf.predict(twenty_test.data)\n",
        "lr_clf_accuracy = np.mean(lr_predicted == twenty_test.target) * 100.\n",
        "print(f'Test Accuracy is {lr_clf_accuracy}')"
      ],
      "execution_count": 0,
      "outputs": [
        {
          "output_type": "stream",
          "text": [
            "Test Accuracy is 82.74030801911843\n"
          ],
          "name": "stdout"
        }
      ]
    },
    {
      "cell_type": "code",
      "metadata": {
        "id": "fy9zliR3Y23h",
        "colab_type": "code",
        "colab": {}
      },
      "source": [
        "from sklearn.metrics import confusion_matrix\n",
        "cf = confusion_matrix(y_true=twenty_test.target, y_pred=lr_predicted)"
      ],
      "execution_count": 0,
      "outputs": []
    },
    {
      "cell_type": "code",
      "metadata": {
        "id": "tACzFVWLY20l",
        "colab_type": "code",
        "outputId": "abea63e9-bfba-490f-d724-4d3ce5e8ee4e",
        "colab": {
          "base_uri": "https://localhost:8080/",
          "height": 1000
        }
      },
      "source": [
        "import json\n",
        "print(json.dumps(cf.tolist(), indent=2))"
      ],
      "execution_count": 0,
      "outputs": [
        {
          "output_type": "stream",
          "text": [
            "[\n",
            "  [\n",
            "    237,\n",
            "    2,\n",
            "    0,\n",
            "    0,\n",
            "    1,\n",
            "    1,\n",
            "    4,\n",
            "    0,\n",
            "    3,\n",
            "    3,\n",
            "    0,\n",
            "    1,\n",
            "    2,\n",
            "    8,\n",
            "    2,\n",
            "    33,\n",
            "    2,\n",
            "    4,\n",
            "    1,\n",
            "    15\n",
            "  ],\n",
            "  [\n",
            "    1,\n",
            "    307,\n",
            "    14,\n",
            "    8,\n",
            "    8,\n",
            "    17,\n",
            "    6,\n",
            "    1,\n",
            "    0,\n",
            "    1,\n",
            "    0,\n",
            "    4,\n",
            "    10,\n",
            "    1,\n",
            "    4,\n",
            "    2,\n",
            "    1,\n",
            "    1,\n",
            "    2,\n",
            "    1\n",
            "  ],\n",
            "  [\n",
            "    2,\n",
            "    21,\n",
            "    289,\n",
            "    34,\n",
            "    12,\n",
            "    11,\n",
            "    2,\n",
            "    2,\n",
            "    2,\n",
            "    4,\n",
            "    0,\n",
            "    1,\n",
            "    1,\n",
            "    1,\n",
            "    3,\n",
            "    2,\n",
            "    0,\n",
            "    0,\n",
            "    6,\n",
            "    1\n",
            "  ],\n",
            "  [\n",
            "    0,\n",
            "    13,\n",
            "    23,\n",
            "    284,\n",
            "    21,\n",
            "    2,\n",
            "    14,\n",
            "    3,\n",
            "    0,\n",
            "    1,\n",
            "    1,\n",
            "    1,\n",
            "    24,\n",
            "    0,\n",
            "    3,\n",
            "    0,\n",
            "    1,\n",
            "    0,\n",
            "    0,\n",
            "    1\n",
            "  ],\n",
            "  [\n",
            "    0,\n",
            "    5,\n",
            "    6,\n",
            "    22,\n",
            "    319,\n",
            "    1,\n",
            "    10,\n",
            "    0,\n",
            "    0,\n",
            "    5,\n",
            "    1,\n",
            "    0,\n",
            "    12,\n",
            "    0,\n",
            "    1,\n",
            "    0,\n",
            "    0,\n",
            "    0,\n",
            "    3,\n",
            "    0\n",
            "  ],\n",
            "  [\n",
            "    0,\n",
            "    43,\n",
            "    38,\n",
            "    5,\n",
            "    4,\n",
            "    292,\n",
            "    3,\n",
            "    0,\n",
            "    0,\n",
            "    0,\n",
            "    0,\n",
            "    1,\n",
            "    3,\n",
            "    2,\n",
            "    4,\n",
            "    0,\n",
            "    0,\n",
            "    0,\n",
            "    0,\n",
            "    0\n",
            "  ],\n",
            "  [\n",
            "    0,\n",
            "    3,\n",
            "    2,\n",
            "    12,\n",
            "    7,\n",
            "    0,\n",
            "    351,\n",
            "    3,\n",
            "    2,\n",
            "    1,\n",
            "    1,\n",
            "    0,\n",
            "    7,\n",
            "    1,\n",
            "    0,\n",
            "    0,\n",
            "    0,\n",
            "    0,\n",
            "    0,\n",
            "    0\n",
            "  ],\n",
            "  [\n",
            "    0,\n",
            "    1,\n",
            "    1,\n",
            "    4,\n",
            "    0,\n",
            "    2,\n",
            "    14,\n",
            "    352,\n",
            "    3,\n",
            "    2,\n",
            "    0,\n",
            "    0,\n",
            "    12,\n",
            "    1,\n",
            "    1,\n",
            "    0,\n",
            "    1,\n",
            "    0,\n",
            "    2,\n",
            "    0\n",
            "  ],\n",
            "  [\n",
            "    0,\n",
            "    0,\n",
            "    0,\n",
            "    0,\n",
            "    0,\n",
            "    0,\n",
            "    6,\n",
            "    10,\n",
            "    378,\n",
            "    2,\n",
            "    0,\n",
            "    0,\n",
            "    1,\n",
            "    0,\n",
            "    0,\n",
            "    0,\n",
            "    0,\n",
            "    0,\n",
            "    1,\n",
            "    0\n",
            "  ],\n",
            "  [\n",
            "    1,\n",
            "    0,\n",
            "    0,\n",
            "    0,\n",
            "    2,\n",
            "    1,\n",
            "    6,\n",
            "    1,\n",
            "    0,\n",
            "    367,\n",
            "    15,\n",
            "    0,\n",
            "    2,\n",
            "    0,\n",
            "    0,\n",
            "    0,\n",
            "    1,\n",
            "    0,\n",
            "    0,\n",
            "    1\n",
            "  ],\n",
            "  [\n",
            "    0,\n",
            "    0,\n",
            "    0,\n",
            "    1,\n",
            "    3,\n",
            "    2,\n",
            "    2,\n",
            "    0,\n",
            "    0,\n",
            "    9,\n",
            "    379,\n",
            "    0,\n",
            "    0,\n",
            "    0,\n",
            "    0,\n",
            "    1,\n",
            "    0,\n",
            "    0,\n",
            "    2,\n",
            "    0\n",
            "  ],\n",
            "  [\n",
            "    1,\n",
            "    8,\n",
            "    3,\n",
            "    0,\n",
            "    3,\n",
            "    4,\n",
            "    5,\n",
            "    2,\n",
            "    1,\n",
            "    5,\n",
            "    0,\n",
            "    349,\n",
            "    6,\n",
            "    0,\n",
            "    1,\n",
            "    0,\n",
            "    4,\n",
            "    0,\n",
            "    4,\n",
            "    0\n",
            "  ],\n",
            "  [\n",
            "    0,\n",
            "    9,\n",
            "    5,\n",
            "    20,\n",
            "    9,\n",
            "    3,\n",
            "    8,\n",
            "    5,\n",
            "    2,\n",
            "    2,\n",
            "    0,\n",
            "    9,\n",
            "    314,\n",
            "    4,\n",
            "    2,\n",
            "    1,\n",
            "    0,\n",
            "    0,\n",
            "    0,\n",
            "    0\n",
            "  ],\n",
            "  [\n",
            "    4,\n",
            "    10,\n",
            "    1,\n",
            "    2,\n",
            "    2,\n",
            "    3,\n",
            "    15,\n",
            "    3,\n",
            "    4,\n",
            "    4,\n",
            "    0,\n",
            "    0,\n",
            "    13,\n",
            "    327,\n",
            "    0,\n",
            "    2,\n",
            "    1,\n",
            "    2,\n",
            "    3,\n",
            "    0\n",
            "  ],\n",
            "  [\n",
            "    0,\n",
            "    11,\n",
            "    0,\n",
            "    0,\n",
            "    2,\n",
            "    2,\n",
            "    2,\n",
            "    1,\n",
            "    0,\n",
            "    0,\n",
            "    1,\n",
            "    0,\n",
            "    2,\n",
            "    6,\n",
            "    361,\n",
            "    1,\n",
            "    2,\n",
            "    0,\n",
            "    3,\n",
            "    0\n",
            "  ],\n",
            "  [\n",
            "    2,\n",
            "    4,\n",
            "    2,\n",
            "    1,\n",
            "    0,\n",
            "    1,\n",
            "    1,\n",
            "    0,\n",
            "    0,\n",
            "    2,\n",
            "    0,\n",
            "    0,\n",
            "    2,\n",
            "    1,\n",
            "    3,\n",
            "    373,\n",
            "    0,\n",
            "    0,\n",
            "    0,\n",
            "    6\n",
            "  ],\n",
            "  [\n",
            "    0,\n",
            "    0,\n",
            "    0,\n",
            "    1,\n",
            "    1,\n",
            "    1,\n",
            "    6,\n",
            "    4,\n",
            "    2,\n",
            "    4,\n",
            "    1,\n",
            "    5,\n",
            "    1,\n",
            "    4,\n",
            "    2,\n",
            "    0,\n",
            "    319,\n",
            "    1,\n",
            "    9,\n",
            "    3\n",
            "  ],\n",
            "  [\n",
            "    10,\n",
            "    2,\n",
            "    0,\n",
            "    0,\n",
            "    0,\n",
            "    9,\n",
            "    1,\n",
            "    1,\n",
            "    1,\n",
            "    3,\n",
            "    1,\n",
            "    0,\n",
            "    0,\n",
            "    1,\n",
            "    0,\n",
            "    4,\n",
            "    3,\n",
            "    328,\n",
            "    12,\n",
            "    0\n",
            "  ],\n",
            "  [\n",
            "    1,\n",
            "    2,\n",
            "    0,\n",
            "    0,\n",
            "    1,\n",
            "    1,\n",
            "    4,\n",
            "    1,\n",
            "    1,\n",
            "    0,\n",
            "    0,\n",
            "    2,\n",
            "    2,\n",
            "    4,\n",
            "    8,\n",
            "    3,\n",
            "    95,\n",
            "    2,\n",
            "    182,\n",
            "    1\n",
            "  ],\n",
            "  [\n",
            "    39,\n",
            "    4,\n",
            "    0,\n",
            "    0,\n",
            "    0,\n",
            "    0,\n",
            "    4,\n",
            "    0,\n",
            "    0,\n",
            "    1,\n",
            "    2,\n",
            "    0,\n",
            "    0,\n",
            "    8,\n",
            "    3,\n",
            "    41,\n",
            "    13,\n",
            "    2,\n",
            "    10,\n",
            "    124\n",
            "  ]\n",
            "]\n"
          ],
          "name": "stdout"
        }
      ]
    },
    {
      "cell_type": "code",
      "metadata": {
        "id": "7g3wzRHhY2vW",
        "colab_type": "code",
        "colab": {}
      },
      "source": [
        "import seaborn as sns\n",
        "import matplotlib.pyplot as plt\n",
        "%matplotlib inline"
      ],
      "execution_count": 0,
      "outputs": []
    },
    {
      "cell_type": "code",
      "metadata": {
        "id": "FsZpb60Oded-",
        "colab_type": "code",
        "outputId": "eca26242-4c53-449f-d319-e6d09808890f",
        "colab": {
          "base_uri": "https://localhost:8080/",
          "height": 616
        }
      },
      "source": [
        "plt.figure(figsize=(20,10))\n",
        "ax = sns.heatmap(cf, annot=True, fmt=\"d\",linewidths=.5, center = 90, vmax = 200)"
      ],
      "execution_count": 0,
      "outputs": [
        {
          "output_type": "display_data",
          "data": {
            "image/png": "[encoded data removed]",
            "text/plain": [
              "<Figure size 1440x720 with 2 Axes>"
            ]
          },
          "metadata": {
            "tags": []
          }
        }
      ]
    },
    {
      "cell_type": "markdown",
      "metadata": {
        "id": "QCDZVk2Ad4B_",
        "colab_type": "text"
      },
      "source": [
        "##Tricks of Trade\n",
        "\n",
        "Removing Stop Words\n",
        "\n",
        "**If there is an error above, try:**\n",
        "\n",
        "Windows:python -m spacy download en as Administrator\n",
        "\n",
        "Linux:sudo python -m spacy download en"
      ]
    },
    {
      "cell_type": "code",
      "metadata": {
        "id": "IKwm3GPhdyXL",
        "colab_type": "code",
        "colab": {}
      },
      "source": [
        "nlp = spacy.load('en')"
      ],
      "execution_count": 0,
      "outputs": []
    },
    {
      "cell_type": "markdown",
      "metadata": {
        "id": "FznLcZX7eIDm",
        "colab_type": "text"
      },
      "source": [
        "#Exploring spaCy"
      ]
    },
    {
      "cell_type": "code",
      "metadata": {
        "id": "RJm1IJfcdygJ",
        "colab_type": "code",
        "outputId": "91323692-9dc2-4b49-e132-46f5bab07bdd",
        "colab": {
          "base_uri": "https://localhost:8080/",
          "height": 1000
        }
      },
      "source": [
        "from spacy.lang.en.stop_words import STOP_WORDS\n",
        "STOP_WORDS"
      ],
      "execution_count": 0,
      "outputs": [
        {
          "output_type": "execute_result",
          "data": {
            "text/plain": [
              "{\"'d\",\n",
              " \"'ll\",\n",
              " \"'m\",\n",
              " \"'re\",\n",
              " \"'s\",\n",
              " \"'ve\",\n",
              " 'a',\n",
              " 'about',\n",
              " 'above',\n",
              " 'across',\n",
              " 'after',\n",
              " 'afterwards',\n",
              " 'again',\n",
              " 'against',\n",
              " 'all',\n",
              " 'almost',\n",
              " 'alone',\n",
              " 'along',\n",
              " 'already',\n",
              " 'also',\n",
              " 'although',\n",
              " 'always',\n",
              " 'am',\n",
              " 'among',\n",
              " 'amongst',\n",
              " 'amount',\n",
              " 'an',\n",
              " 'and',\n",
              " 'another',\n",
              " 'any',\n",
              " 'anyhow',\n",
              " 'anyone',\n",
              " 'anything',\n",
              " 'anyway',\n",
              " 'anywhere',\n",
              " 'are',\n",
              " 'around',\n",
              " 'as',\n",
              " 'at',\n",
              " 'back',\n",
              " 'be',\n",
              " 'became',\n",
              " 'because',\n",
              " 'become',\n",
              " 'becomes',\n",
              " 'becoming',\n",
              " 'been',\n",
              " 'before',\n",
              " 'beforehand',\n",
              " 'behind',\n",
              " 'being',\n",
              " 'below',\n",
              " 'beside',\n",
              " 'besides',\n",
              " 'between',\n",
              " 'beyond',\n",
              " 'both',\n",
              " 'bottom',\n",
              " 'but',\n",
              " 'by',\n",
              " 'ca',\n",
              " 'call',\n",
              " 'can',\n",
              " 'cannot',\n",
              " 'could',\n",
              " 'did',\n",
              " 'do',\n",
              " 'does',\n",
              " 'doing',\n",
              " 'done',\n",
              " 'down',\n",
              " 'due',\n",
              " 'during',\n",
              " 'each',\n",
              " 'eight',\n",
              " 'either',\n",
              " 'eleven',\n",
              " 'else',\n",
              " 'elsewhere',\n",
              " 'empty',\n",
              " 'enough',\n",
              " 'even',\n",
              " 'ever',\n",
              " 'every',\n",
              " 'everyone',\n",
              " 'everything',\n",
              " 'everywhere',\n",
              " 'except',\n",
              " 'few',\n",
              " 'fifteen',\n",
              " 'fifty',\n",
              " 'first',\n",
              " 'five',\n",
              " 'for',\n",
              " 'former',\n",
              " 'formerly',\n",
              " 'forty',\n",
              " 'four',\n",
              " 'from',\n",
              " 'front',\n",
              " 'full',\n",
              " 'further',\n",
              " 'get',\n",
              " 'give',\n",
              " 'go',\n",
              " 'had',\n",
              " 'has',\n",
              " 'have',\n",
              " 'he',\n",
              " 'hence',\n",
              " 'her',\n",
              " 'here',\n",
              " 'hereafter',\n",
              " 'hereby',\n",
              " 'herein',\n",
              " 'hereupon',\n",
              " 'hers',\n",
              " 'herself',\n",
              " 'him',\n",
              " 'himself',\n",
              " 'his',\n",
              " 'how',\n",
              " 'however',\n",
              " 'hundred',\n",
              " 'i',\n",
              " 'if',\n",
              " 'in',\n",
              " 'indeed',\n",
              " 'into',\n",
              " 'is',\n",
              " 'it',\n",
              " 'its',\n",
              " 'itself',\n",
              " 'just',\n",
              " 'keep',\n",
              " 'last',\n",
              " 'latter',\n",
              " 'latterly',\n",
              " 'least',\n",
              " 'less',\n",
              " 'made',\n",
              " 'make',\n",
              " 'many',\n",
              " 'may',\n",
              " 'me',\n",
              " 'meanwhile',\n",
              " 'might',\n",
              " 'mine',\n",
              " 'more',\n",
              " 'moreover',\n",
              " 'most',\n",
              " 'mostly',\n",
              " 'move',\n",
              " 'much',\n",
              " 'must',\n",
              " 'my',\n",
              " 'myself',\n",
              " \"n't\",\n",
              " 'name',\n",
              " 'namely',\n",
              " 'neither',\n",
              " 'never',\n",
              " 'nevertheless',\n",
              " 'next',\n",
              " 'nine',\n",
              " 'no',\n",
              " 'nobody',\n",
              " 'none',\n",
              " 'noone',\n",
              " 'nor',\n",
              " 'not',\n",
              " 'nothing',\n",
              " 'now',\n",
              " 'nowhere',\n",
              " 'n‘t',\n",
              " 'n’t',\n",
              " 'of',\n",
              " 'off',\n",
              " 'often',\n",
              " 'on',\n",
              " 'once',\n",
              " 'one',\n",
              " 'only',\n",
              " 'onto',\n",
              " 'or',\n",
              " 'other',\n",
              " 'others',\n",
              " 'otherwise',\n",
              " 'our',\n",
              " 'ours',\n",
              " 'ourselves',\n",
              " 'out',\n",
              " 'over',\n",
              " 'own',\n",
              " 'part',\n",
              " 'per',\n",
              " 'perhaps',\n",
              " 'please',\n",
              " 'put',\n",
              " 'quite',\n",
              " 'rather',\n",
              " 're',\n",
              " 'really',\n",
              " 'regarding',\n",
              " 'same',\n",
              " 'say',\n",
              " 'see',\n",
              " 'seem',\n",
              " 'seemed',\n",
              " 'seeming',\n",
              " 'seems',\n",
              " 'serious',\n",
              " 'several',\n",
              " 'she',\n",
              " 'should',\n",
              " 'show',\n",
              " 'side',\n",
              " 'since',\n",
              " 'six',\n",
              " 'sixty',\n",
              " 'so',\n",
              " 'some',\n",
              " 'somehow',\n",
              " 'someone',\n",
              " 'something',\n",
              " 'sometime',\n",
              " 'sometimes',\n",
              " 'somewhere',\n",
              " 'still',\n",
              " 'such',\n",
              " 'take',\n",
              " 'ten',\n",
              " 'than',\n",
              " 'that',\n",
              " 'the',\n",
              " 'their',\n",
              " 'them',\n",
              " 'themselves',\n",
              " 'then',\n",
              " 'thence',\n",
              " 'there',\n",
              " 'thereafter',\n",
              " 'thereby',\n",
              " 'therefore',\n",
              " 'therein',\n",
              " 'thereupon',\n",
              " 'these',\n",
              " 'they',\n",
              " 'third',\n",
              " 'this',\n",
              " 'those',\n",
              " 'though',\n",
              " 'three',\n",
              " 'through',\n",
              " 'throughout',\n",
              " 'thru',\n",
              " 'thus',\n",
              " 'to',\n",
              " 'together',\n",
              " 'too',\n",
              " 'top',\n",
              " 'toward',\n",
              " 'towards',\n",
              " 'twelve',\n",
              " 'twenty',\n",
              " 'two',\n",
              " 'under',\n",
              " 'unless',\n",
              " 'until',\n",
              " 'up',\n",
              " 'upon',\n",
              " 'us',\n",
              " 'used',\n",
              " 'using',\n",
              " 'various',\n",
              " 'very',\n",
              " 'via',\n",
              " 'was',\n",
              " 'we',\n",
              " 'well',\n",
              " 'were',\n",
              " 'what',\n",
              " 'whatever',\n",
              " 'when',\n",
              " 'whence',\n",
              " 'whenever',\n",
              " 'where',\n",
              " 'whereafter',\n",
              " 'whereas',\n",
              " 'whereby',\n",
              " 'wherein',\n",
              " 'whereupon',\n",
              " 'wherever',\n",
              " 'whether',\n",
              " 'which',\n",
              " 'while',\n",
              " 'whither',\n",
              " 'who',\n",
              " 'whoever',\n",
              " 'whole',\n",
              " 'whom',\n",
              " 'whose',\n",
              " 'why',\n",
              " 'will',\n",
              " 'with',\n",
              " 'within',\n",
              " 'without',\n",
              " 'would',\n",
              " 'yet',\n",
              " 'you',\n",
              " 'your',\n",
              " 'yours',\n",
              " 'yourself',\n",
              " 'yourselves',\n",
              " '‘d',\n",
              " '‘ll',\n",
              " '‘m',\n",
              " '‘re',\n",
              " '‘s',\n",
              " '‘ve',\n",
              " '’d',\n",
              " '’ll',\n",
              " '’m',\n",
              " '’re',\n",
              " '’s',\n",
              " '’ve'}"
            ]
          },
          "metadata": {
            "tags": []
          },
          "execution_count": 31
        }
      ]
    },
    {
      "cell_type": "code",
      "metadata": {
        "id": "JPhlEcE2dycq",
        "colab_type": "code",
        "outputId": "663335f7-59d0-4185-daaa-6164243bf5fb",
        "colab": {
          "base_uri": "https://localhost:8080/",
          "height": 34
        }
      },
      "source": [
        "f'There are {len(STOP_WORDS)} stopwords in spaCy'"
      ],
      "execution_count": 0,
      "outputs": [
        {
          "output_type": "execute_result",
          "data": {
            "text/plain": [
              "'There are 326 stopwords in spaCy'"
            ]
          },
          "metadata": {
            "tags": []
          },
          "execution_count": 32
        }
      ]
    },
    {
      "cell_type": "code",
      "metadata": {
        "id": "RdyzgMqAksZK",
        "colab_type": "code",
        "outputId": "fd50e32c-aa26-488c-a67a-8147977ad4a5",
        "colab": {
          "base_uri": "https://localhost:8080/",
          "height": 34
        }
      },
      "source": [
        "# You can add your own corpora specific STOPWORDS using the .add syntax\n",
        "STOP_WORDS.add(\"your_additional_stop_word_here\")\n",
        "f'After adding your own stop words, spaCy will use {len(STOP_WORDS)} stopwords'"
      ],
      "execution_count": 0,
      "outputs": [
        {
          "output_type": "execute_result",
          "data": {
            "text/plain": [
              "'After adding your own stop words, spaCy will use 327 stopwords'"
            ]
          },
          "metadata": {
            "tags": []
          },
          "execution_count": 33
        }
      ]
    },
    {
      "cell_type": "code",
      "metadata": {
        "id": "GOG46NTVksTJ",
        "colab_type": "code",
        "outputId": "2d6dd188-200a-4b11-a19b-1e7a9d53d9d4",
        "colab": {
          "base_uri": "https://localhost:8080/",
          "height": 34
        }
      },
      "source": [
        "doc = nlp(\"I am learning the most important ideas Natural Language Processing ideas using Python\")\n",
        "print(doc)  # doc is a spaCy object which stores the entire document string"
      ],
      "execution_count": 0,
      "outputs": [
        {
          "output_type": "stream",
          "text": [
            "I am learning the most important ideas Natural Language Processing ideas using Python\n"
          ],
          "name": "stdout"
        }
      ]
    },
    {
      "cell_type": "markdown",
      "metadata": {
        "id": "bEU9FtIIk0Zk",
        "colab_type": "text"
      },
      "source": [
        "**About spaCy objects**"
      ]
    },
    {
      "cell_type": "code",
      "metadata": {
        "id": "rTcNmMFwkr5X",
        "colab_type": "code",
        "outputId": "bbabab32-4a33-4a5e-837f-83b734ca1210",
        "colab": {
          "base_uri": "https://localhost:8080/",
          "height": 238
        }
      },
      "source": [
        "for token in doc:\n",
        "    print(token)"
      ],
      "execution_count": 0,
      "outputs": [
        {
          "output_type": "stream",
          "text": [
            "I\n",
            "am\n",
            "learning\n",
            "the\n",
            "most\n",
            "important\n",
            "ideas\n",
            "Natural\n",
            "Language\n",
            "Processing\n",
            "ideas\n",
            "using\n",
            "Python\n"
          ],
          "name": "stdout"
        }
      ]
    },
    {
      "cell_type": "code",
      "metadata": {
        "id": "gXu_2oh_deS2",
        "colab_type": "code",
        "outputId": "44220807-c287-40d8-8449-551395817acf",
        "colab": {
          "base_uri": "https://localhost:8080/",
          "height": 34
        }
      },
      "source": [
        "simplified_doc = [token for token in doc if not token.is_punct | token.is_stop]\n",
        "simplified_doc\n",
        "# please note that .orth_ attribute returns the unicode string representation of the token"
      ],
      "execution_count": 0,
      "outputs": [
        {
          "output_type": "execute_result",
          "data": {
            "text/plain": [
              "[learning, important, ideas, Natural, Language, Processing, ideas, Python]"
            ]
          },
          "metadata": {
            "tags": []
          },
          "execution_count": 36
        }
      ]
    },
    {
      "cell_type": "markdown",
      "metadata": {
        "id": "H5xU69RslfSN",
        "colab_type": "text"
      },
      "source": [
        "We can also check what other things we know about these tags in the simplified_doc:\n",
        "\n"
      ]
    },
    {
      "cell_type": "code",
      "metadata": {
        "id": "uymDuJxzleQy",
        "colab_type": "code",
        "outputId": "20fbfa22-effa-4ead-8c89-176ae15f5222",
        "colab": {
          "base_uri": "https://localhost:8080/",
          "height": 153
        }
      },
      "source": [
        "for token in simplified_doc:\n",
        "    print(f'Token:{token.orth_}\\tLemmatized:{token.lemma_}\\tPart-of-Speech-Tag:{token.pos_}')"
      ],
      "execution_count": 0,
      "outputs": [
        {
          "output_type": "stream",
          "text": [
            "Token:learning\tLemmatized:learn\tPart-of-Speech-Tag:VERB\n",
            "Token:important\tLemmatized:important\tPart-of-Speech-Tag:ADJ\n",
            "Token:ideas\tLemmatized:idea\tPart-of-Speech-Tag:NOUN\n",
            "Token:Natural\tLemmatized:Natural\tPart-of-Speech-Tag:PROPN\n",
            "Token:Language\tLemmatized:Language\tPart-of-Speech-Tag:PROPN\n",
            "Token:Processing\tLemmatized:Processing\tPart-of-Speech-Tag:PROPN\n",
            "Token:ideas\tLemmatized:idea\tPart-of-Speech-Tag:NOUN\n",
            "Token:Python\tLemmatized:Python\tPart-of-Speech-Tag:PROPN\n"
          ],
          "name": "stdout"
        }
      ]
    },
    {
      "cell_type": "markdown",
      "metadata": {
        "id": "g9cEBowflsDw",
        "colab_type": "text"
      },
      "source": [
        "**Integrating back with our classifier pipeline**"
      ]
    },
    {
      "cell_type": "code",
      "metadata": {
        "id": "GwS_cnexleNN",
        "colab_type": "code",
        "colab": {}
      },
      "source": [
        "??CountVectorizer"
      ],
      "execution_count": 0,
      "outputs": []
    },
    {
      "cell_type": "code",
      "metadata": {
        "id": "mhr0zWIzleIP",
        "colab_type": "code",
        "colab": {}
      },
      "source": [
        "from spacy.lang.en import English\n",
        "tokenizer = English().Defaults.create_tokenizer(nlp)\n",
        "def spacy_tokenizer(document):\n",
        "    return [token.orth_ for token in tokenizer(document)]"
      ],
      "execution_count": 0,
      "outputs": []
    },
    {
      "cell_type": "code",
      "metadata": {
        "id": "ge2LhtGlmCJJ",
        "colab_type": "code",
        "outputId": "ad672176-ee12-4b34-9874-9d8129f311bb",
        "colab": {
          "base_uri": "https://localhost:8080/",
          "height": 51
        }
      },
      "source": [
        "%%time\n",
        "text_lr_clf = Pipeline([('vect', CountVectorizer()), ('tfidf', TfidfTransformer()), ('clf',LR())])\n",
        "text_lr_clf = text_lr_clf.fit(twenty_train.data, twenty_train.target)"
      ],
      "execution_count": 0,
      "outputs": [
        {
          "output_type": "stream",
          "text": [
            "CPU times: user 1min 26s, sys: 10.5 s, total: 1min 36s\n",
            "Wall time: 1min 24s\n"
          ],
          "name": "stdout"
        }
      ]
    },
    {
      "cell_type": "code",
      "metadata": {
        "id": "vBMl60ammCFQ",
        "colab_type": "code",
        "outputId": "13fb3949-87bd-4033-e3fe-d275790aa84c",
        "colab": {
          "base_uri": "https://localhost:8080/",
          "height": 51
        }
      },
      "source": [
        "def calc_print_accuracy(text_clf, test):\n",
        "    predictions = text_clf.predict(test.data)\n",
        "    clf_accuracy = np.mean(predictions == test.target) * 100.\n",
        "    print(f'Test Accuracy is {clf_accuracy}')\n",
        "    return clf_accuracy\n",
        "\n",
        "calc_print_accuracy(text_lr_clf, twenty_test)"
      ],
      "execution_count": 0,
      "outputs": [
        {
          "output_type": "stream",
          "text": [
            "Test Accuracy is 82.74030801911843\n"
          ],
          "name": "stdout"
        },
        {
          "output_type": "execute_result",
          "data": {
            "text/plain": [
              "82.74030801911843"
            ]
          },
          "metadata": {
            "tags": []
          },
          "execution_count": 41
        }
      ]
    },
    {
      "cell_type": "code",
      "metadata": {
        "id": "bW22ntsbmCAi",
        "colab_type": "code",
        "outputId": "096a28aa-e6d0-469e-c7fe-469a76cbe1b1",
        "colab": {
          "base_uri": "https://localhost:8080/",
          "height": 258
        }
      },
      "source": [
        "%%time\n",
        "text_lr_clf = Pipeline([('vect', CountVectorizer(tokenizer=spacy_tokenizer, stop_words=list(STOP_WORDS))), ('tfidf', TfidfTransformer()), ('clf',LR())])\n",
        "text_lr_clf = text_lr_clf.fit(twenty_train.data, twenty_train.target)\n",
        "calc_print_accuracy(text_lr_clf, twenty_test)"
      ],
      "execution_count": 0,
      "outputs": [
        {
          "output_type": "stream",
          "text": [
            "/usr/local/lib/python3.6/dist-packages/sklearn/feature_extraction/text.py:385: UserWarning: Your stop_words may be inconsistent with your preprocessing. Tokenizing the stop words generated tokens [\"'\", 'd', 'll', 'm', 've', '‘', '’'] not in stop_words.\n",
            "  'stop_words.' % sorted(inconsistent))\n",
            "/usr/local/lib/python3.6/dist-packages/sklearn/linear_model/_logistic.py:940: ConvergenceWarning: lbfgs failed to converge (status=1):\n",
            "STOP: TOTAL NO. of ITERATIONS REACHED LIMIT.\n",
            "\n",
            "Increase the number of iterations (max_iter) or scale the data as shown in:\n",
            "    https://scikit-learn.org/stable/modules/preprocessing.html\n",
            "Please also refer to the documentation for alternative solver options:\n",
            "    https://scikit-learn.org/stable/modules/linear_model.html#logistic-regression\n",
            "  extra_warning_msg=_LOGISTIC_SOLVER_CONVERGENCE_MSG)\n"
          ],
          "name": "stderr"
        },
        {
          "output_type": "stream",
          "text": [
            "Test Accuracy is 78.0138077535847\n",
            "CPU times: user 2min 53s, sys: 12.6 s, total: 3min 6s\n",
            "Wall time: 2min 53s\n"
          ],
          "name": "stdout"
        }
      ]
    }
  ]
}